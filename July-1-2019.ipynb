{
 "cells": [
  {
   "cell_type": "markdown",
   "metadata": {},
   "source": [
    "## My Practise"
   ]
  },
  {
   "cell_type": "code",
   "execution_count": 20,
   "metadata": {},
   "outputs": [
    {
     "data": {
      "text/plain": [
       "True"
      ]
     },
     "execution_count": 20,
     "metadata": {},
     "output_type": "execute_result"
    }
   ],
   "source": [
    "def isprime(num):\n",
    "    if num ==2:\n",
    "        return True\n",
    "    for i in range(2,num):\n",
    "        if num%i == 0:\n",
    "            return False\n",
    "    return True\n",
    "\n",
    "isprime(1)"
   ]
  },
  {
   "cell_type": "code",
   "execution_count": 47,
   "metadata": {},
   "outputs": [
    {
     "name": "stdout",
     "output_type": "stream",
     "text": [
      "5 10\n"
     ]
    },
    {
     "data": {
      "text/plain": [
       "6"
      ]
     },
     "execution_count": 47,
     "metadata": {},
     "output_type": "execute_result"
    }
   ],
   "source": [
    "n = list(map(int, input().split()))\n",
    "allcount = len([x for x in range(n[0], n[1]+1)])\n",
    "allcount"
   ]
  },
  {
   "cell_type": "code",
   "execution_count": 1,
   "metadata": {},
   "outputs": [
    {
     "name": "stdout",
     "output_type": "stream",
     "text": [
      "5 10\n",
      "2\n"
     ]
    }
   ],
   "source": [
    "n = list(map(int, input().split()))\n",
    "count = [x for x in range(n[0], n[1]+1) if all(x % y != 0 for y in range(2, x))]\n",
    "print(len(count))"
   ]
  },
  {
   "cell_type": "code",
   "execution_count": null,
   "metadata": {},
   "outputs": [],
   "source": [
    "def pairs(data):\n",
    "    prime_count = len([x for x in range(data[0], data[1]+1) if all(x % y != 0 for y in range(2, x))])\n",
    "    allcount = (data[1] - data[0])+1\n",
    "    print(prime_count * (allcount - prime_count))\n",
    "            \n",
    "    \n",
    "    \n",
    "for i in range(int(input())):\n",
    "    data = list(map(int, input().split()))\n",
    "    pairs(data)"
   ]
  },
  {
   "cell_type": "code",
   "execution_count": null,
   "metadata": {},
   "outputs": [],
   "source": [
    "    \n",
    "def pairs(data):\n",
    "    prime_count = 0\n",
    "    composite_count = 0\n",
    "    for i in range(lb,ub+1):\n",
    "        if isprime(i):\n",
    "            prime_count += 1\n",
    "        else:\n",
    "            composite_count += 1\n",
    "            \n",
    "    if lb == ub:\n",
    "        print(0)\n",
    "    else:\n",
    "        print(prime_count * composite_count)\n",
    "            \n",
    "    \n",
    "    \n",
    "for i in range(int(input())):\n",
    "    data = list(map(int, input().split()))\n",
    "    lb = data[0]\n",
    "    ub = data[1]\n",
    "    pairs(data)"
   ]
  },
  {
   "cell_type": "code",
   "execution_count": null,
   "metadata": {},
   "outputs": [],
   "source": []
  },
  {
   "cell_type": "markdown",
   "metadata": {},
   "source": [
    "# Tasks"
   ]
  },
  {
   "cell_type": "code",
   "execution_count": 1,
   "metadata": {},
   "outputs": [
    {
     "data": {
      "text/html": [
       "<div>\n",
       "<style scoped>\n",
       "    .dataframe tbody tr th:only-of-type {\n",
       "        vertical-align: middle;\n",
       "    }\n",
       "\n",
       "    .dataframe tbody tr th {\n",
       "        vertical-align: top;\n",
       "    }\n",
       "\n",
       "    .dataframe thead th {\n",
       "        text-align: right;\n",
       "    }\n",
       "</style>\n",
       "<table border=\"1\" class=\"dataframe\">\n",
       "  <thead>\n",
       "    <tr style=\"text-align: right;\">\n",
       "      <th></th>\n",
       "      <th>GEOID</th>\n",
       "      <th>State</th>\n",
       "      <th>2005</th>\n",
       "      <th>2006</th>\n",
       "      <th>2007</th>\n",
       "      <th>2008</th>\n",
       "      <th>2009</th>\n",
       "      <th>2010</th>\n",
       "      <th>2011</th>\n",
       "      <th>2012</th>\n",
       "      <th>2013</th>\n",
       "    </tr>\n",
       "  </thead>\n",
       "  <tbody>\n",
       "    <tr>\n",
       "      <th>0</th>\n",
       "      <td>04000US01</td>\n",
       "      <td>Alabama</td>\n",
       "      <td>37150</td>\n",
       "      <td>37952</td>\n",
       "      <td>42212</td>\n",
       "      <td>44476</td>\n",
       "      <td>39980</td>\n",
       "      <td>40933</td>\n",
       "      <td>42590</td>\n",
       "      <td>43464</td>\n",
       "      <td>41381</td>\n",
       "    </tr>\n",
       "    <tr>\n",
       "      <th>1</th>\n",
       "      <td>04000US02</td>\n",
       "      <td>Alaska</td>\n",
       "      <td>55891</td>\n",
       "      <td>56418</td>\n",
       "      <td>62993</td>\n",
       "      <td>63989</td>\n",
       "      <td>61604</td>\n",
       "      <td>57848</td>\n",
       "      <td>57431</td>\n",
       "      <td>63648</td>\n",
       "      <td>61137</td>\n",
       "    </tr>\n",
       "    <tr>\n",
       "      <th>2</th>\n",
       "      <td>04000US04</td>\n",
       "      <td>Arizona</td>\n",
       "      <td>45245</td>\n",
       "      <td>46657</td>\n",
       "      <td>47215</td>\n",
       "      <td>46914</td>\n",
       "      <td>45739</td>\n",
       "      <td>46896</td>\n",
       "      <td>48621</td>\n",
       "      <td>47044</td>\n",
       "      <td>50602</td>\n",
       "    </tr>\n",
       "    <tr>\n",
       "      <th>3</th>\n",
       "      <td>04000US05</td>\n",
       "      <td>Arkansas</td>\n",
       "      <td>36658</td>\n",
       "      <td>37057</td>\n",
       "      <td>40795</td>\n",
       "      <td>39586</td>\n",
       "      <td>36538</td>\n",
       "      <td>38587</td>\n",
       "      <td>41302</td>\n",
       "      <td>39018</td>\n",
       "      <td>39919</td>\n",
       "    </tr>\n",
       "    <tr>\n",
       "      <th>4</th>\n",
       "      <td>04000US06</td>\n",
       "      <td>California</td>\n",
       "      <td>51755</td>\n",
       "      <td>55319</td>\n",
       "      <td>55734</td>\n",
       "      <td>57014</td>\n",
       "      <td>56134</td>\n",
       "      <td>54283</td>\n",
       "      <td>53367</td>\n",
       "      <td>57020</td>\n",
       "      <td>57528</td>\n",
       "    </tr>\n",
       "  </tbody>\n",
       "</table>\n",
       "</div>"
      ],
      "text/plain": [
       "       GEOID       State   2005   2006   2007   2008   2009   2010   2011  \\\n",
       "0  04000US01     Alabama  37150  37952  42212  44476  39980  40933  42590   \n",
       "1  04000US02      Alaska  55891  56418  62993  63989  61604  57848  57431   \n",
       "2  04000US04     Arizona  45245  46657  47215  46914  45739  46896  48621   \n",
       "3  04000US05    Arkansas  36658  37057  40795  39586  36538  38587  41302   \n",
       "4  04000US06  California  51755  55319  55734  57014  56134  54283  53367   \n",
       "\n",
       "    2012   2013  \n",
       "0  43464  41381  \n",
       "1  63648  61137  \n",
       "2  47044  50602  \n",
       "3  39018  39919  \n",
       "4  57020  57528  "
      ]
     },
     "execution_count": 1,
     "metadata": {},
     "output_type": "execute_result"
    }
   ],
   "source": [
    "#Function to read CSV data into a dataFrame\n",
    "\n",
    "filepath = 'DataFiles/Income.csv'\n",
    "import pandas as pd\n",
    "\n",
    "def readCSVdata(filepath):\n",
    "    return pd.read_csv(filepath)\n",
    "\n",
    "readCSVdata(filepath)\n",
    "    "
   ]
  },
  {
   "cell_type": "code",
   "execution_count": 2,
   "metadata": {},
   "outputs": [],
   "source": [
    "incomedf = readCSVdata(filepath)"
   ]
  },
  {
   "cell_type": "code",
   "execution_count": 3,
   "metadata": {},
   "outputs": [],
   "source": [
    "l =[incomedf.values[0][2:]]\n"
   ]
  },
  {
   "cell_type": "code",
   "execution_count": 4,
   "metadata": {},
   "outputs": [
    {
     "name": "stdout",
     "output_type": "stream",
     "text": [
      "[37150 37952 42212 44476 39980 40933 42590 43464 41381] 370138\n"
     ]
    }
   ],
   "source": [
    "for i in l:\n",
    "    print(i,sum(i))"
   ]
  },
  {
   "cell_type": "code",
   "execution_count": 5,
   "metadata": {},
   "outputs": [
    {
     "data": {
      "text/plain": [
       "6"
      ]
     },
     "execution_count": 5,
     "metadata": {},
     "output_type": "execute_result"
    }
   ],
   "source": [
    "def getColumnIndex(df, columnkey):\n",
    "    for i in range(len(df.columns)):\n",
    "        if df.columns[i] ==columnkey:\n",
    "            columnindex = i\n",
    "            #print(type(i))\n",
    "    return columnindex\n",
    "getColumnIndex(incomedf, '2009')"
   ]
  },
  {
   "cell_type": "code",
   "execution_count": null,
   "metadata": {},
   "outputs": [],
   "source": []
  },
  {
   "cell_type": "code",
   "execution_count": 6,
   "metadata": {},
   "outputs": [
    {
     "data": {
      "text/plain": [
       "1"
      ]
     },
     "execution_count": 6,
     "metadata": {},
     "output_type": "execute_result"
    }
   ],
   "source": [
    "def getRowIndex(df, rowkey):\n",
    "    for i in range(len(df.values)):\n",
    "        if df.values[i][0] == rowkey or df.values[i][1] ==rowkey:\n",
    "            rowindex = i\n",
    "    return rowindex\n",
    "getRowIndex(incomedf, 'Alaska')"
   ]
  },
  {
   "cell_type": "markdown",
   "metadata": {},
   "source": [
    "## Average Income of all states from 2005 to 2013\n"
   ]
  },
  {
   "cell_type": "code",
   "execution_count": 7,
   "metadata": {},
   "outputs": [
    {
     "name": "stdout",
     "output_type": "stream",
     "text": [
      "2183644 45 48525\n"
     ]
    }
   ],
   "source": [
    "def averageofStatesWithoutBoundary(df):\n",
    "    count = 0\n",
    "    Total = 0\n",
    "    for i in range(len(df.values)):\n",
    "        for j in range(2,len(df.columns)):\n",
    "            Total+=df.values[i][j]\n",
    "            count+=1\n",
    "    print(Total,count,Total//count)\n",
    "    \n",
    "averageofStatesWithoutBoundary(incomedf)"
   ]
  },
  {
   "cell_type": "code",
   "execution_count": 8,
   "metadata": {},
   "outputs": [
    {
     "name": "stdout",
     "output_type": "stream",
     "text": [
      "Alabama 86054 43027\n",
      "Alaska 207133 51783\n",
      "Arizona 302798 50466\n",
      "Arkansas 383118 47889\n",
      "California 493505 49350\n"
     ]
    }
   ],
   "source": [
    "def averageofStatesWithBoundary(df,lb,up):\n",
    "    count = 0\n",
    "    Total = 0\n",
    "    for i in range(0, len(df.values)):\n",
    "        for j in range(lb,up):\n",
    "            Total+=df.values[i][j]\n",
    "            count+=1\n",
    "        print(df.values[i][1], Total, Total//count)\n",
    "    #print(Total,count,Total//count)\n",
    "    \n",
    "averageofStatesWithBoundary(incomedf,getColumnIndex(incomedf, '2011'),getColumnIndex(incomedf, '2013'))"
   ]
  },
  {
   "cell_type": "code",
   "execution_count": null,
   "metadata": {},
   "outputs": [],
   "source": []
  },
  {
   "cell_type": "markdown",
   "metadata": {},
   "source": [
    "## State with highest average income in the last three years\n"
   ]
  },
  {
   "cell_type": "code",
   "execution_count": 9,
   "metadata": {},
   "outputs": [
    {
     "name": "stdout",
     "output_type": "stream",
     "text": [
      "['Alabama', 'Alaska', 'Arizona', 'Arkansas', 'California'] [42478, 51608, 50657, 48013, 49604]\n",
      "Alaska\n"
     ]
    }
   ],
   "source": [
    "def highestAverageSate(df,lb,up):\n",
    "    c=0\n",
    "    s=0\n",
    "    state = []\n",
    "    avg = []\n",
    "    for i in range(len(df.values)):\n",
    "        for j in range(lb, up+1):\n",
    "            s +=df.values[i][j]\n",
    "            c +=1\n",
    "        state.append(df.values[i][1]), avg.append(s//c)\n",
    "    print(state,avg)\n",
    "    print(state[avg.index(max(avg))])\n",
    "highestAverageSate(incomedf,getColumnIndex(incomedf, '2011'),getColumnIndex(incomedf, '2013'))"
   ]
  },
  {
   "cell_type": "code",
   "execution_count": null,
   "metadata": {},
   "outputs": [],
   "source": []
  },
  {
   "cell_type": "markdown",
   "metadata": {},
   "source": [
    "## State with lowest average income from 2007 to 2010(inclusive)\n"
   ]
  },
  {
   "cell_type": "code",
   "execution_count": 10,
   "metadata": {},
   "outputs": [
    {
     "name": "stdout",
     "output_type": "stream",
     "text": [
      "['Alabama', 'Alaska', 'Arizona', 'Arkansas', 'California'] [41900, 51754, 50066, 47269, 48973]\n",
      "Alabama\n"
     ]
    }
   ],
   "source": [
    "def lowestAverageState(df,start,end):\n",
    "    c,s = 0,0\n",
    "    lb = getColumnIndex(df,start)\n",
    "    ub = getColumnIndex(df, end)\n",
    "    state =[]\n",
    "    avg =[]\n",
    "    for i in range(len(df.values)):\n",
    "        for j in range(lb, ub+1):\n",
    "            s += df.values[i][j]\n",
    "            c += 1\n",
    "        state.append(df.values[i][1]),avg.append(s//c)\n",
    "    print(state, avg)\n",
    "    print(state[avg.index(min(avg))])\n",
    "\n",
    "lowestAverageState(incomedf, '2007', '2010')"
   ]
  },
  {
   "cell_type": "code",
   "execution_count": null,
   "metadata": {},
   "outputs": [],
   "source": []
  },
  {
   "cell_type": "markdown",
   "metadata": {},
   "source": [
    "## Print the list of all states in the same line with average income less than California\n"
   ]
  },
  {
   "cell_type": "code",
   "execution_count": 11,
   "metadata": {},
   "outputs": [
    {
     "name": "stdout",
     "output_type": "stream",
     "text": [
      "{41126: 'Alabama', 50616: 'Alaska', 49482: 'Arizona', 46819: 'Arkansas', 48525: 'California'}\n",
      "[(41126, 'Alabama'), (46819, 'Arkansas'), (48525, 'California'), (49482, 'Arizona'), (50616, 'Alaska')]\n",
      "['Alabama', 'Arkansas']\n"
     ]
    }
   ],
   "source": [
    "def avglessthanCalifornia(df):\n",
    "    c,s = 0,0\n",
    "    state ={}\n",
    "    li = []\n",
    "    for i in range(len(df.values)):\n",
    "        for j in range(2, len(df.columns)):\n",
    "            s += df.values[i][j]\n",
    "            c += 1\n",
    "        state[s//c] = df.values[i][1]\n",
    "    print(state)\n",
    "    state_sort = sorted(state.items())\n",
    "    print(state_sort)\n",
    "    for v in state_sort:\n",
    "        if v[1]==\"California\":\n",
    "            break\n",
    "        else:\n",
    "            li.append(v[1])\n",
    "    print(li)\n",
    "    \n",
    "avglessthanCalifornia(incomedf)"
   ]
  },
  {
   "cell_type": "code",
   "execution_count": null,
   "metadata": {},
   "outputs": [],
   "source": []
  },
  {
   "cell_type": "markdown",
   "metadata": {},
   "source": [
    "## Print the names of states based on descending order of income in the year 2009\n"
   ]
  },
  {
   "cell_type": "code",
   "execution_count": 12,
   "metadata": {},
   "outputs": [
    {
     "data": {
      "text/html": [
       "<div>\n",
       "<style scoped>\n",
       "    .dataframe tbody tr th:only-of-type {\n",
       "        vertical-align: middle;\n",
       "    }\n",
       "\n",
       "    .dataframe tbody tr th {\n",
       "        vertical-align: top;\n",
       "    }\n",
       "\n",
       "    .dataframe thead th {\n",
       "        text-align: right;\n",
       "    }\n",
       "</style>\n",
       "<table border=\"1\" class=\"dataframe\">\n",
       "  <thead>\n",
       "    <tr style=\"text-align: right;\">\n",
       "      <th></th>\n",
       "      <th>GEOID</th>\n",
       "      <th>State</th>\n",
       "      <th>2005</th>\n",
       "      <th>2006</th>\n",
       "      <th>2007</th>\n",
       "      <th>2008</th>\n",
       "      <th>2009</th>\n",
       "      <th>2010</th>\n",
       "      <th>2011</th>\n",
       "      <th>2012</th>\n",
       "      <th>2013</th>\n",
       "    </tr>\n",
       "  </thead>\n",
       "  <tbody>\n",
       "    <tr>\n",
       "      <th>0</th>\n",
       "      <td>04000US01</td>\n",
       "      <td>Alabama</td>\n",
       "      <td>37150</td>\n",
       "      <td>37952</td>\n",
       "      <td>42212</td>\n",
       "      <td>44476</td>\n",
       "      <td>39980</td>\n",
       "      <td>40933</td>\n",
       "      <td>42590</td>\n",
       "      <td>43464</td>\n",
       "      <td>41381</td>\n",
       "    </tr>\n",
       "    <tr>\n",
       "      <th>1</th>\n",
       "      <td>04000US02</td>\n",
       "      <td>Alaska</td>\n",
       "      <td>55891</td>\n",
       "      <td>56418</td>\n",
       "      <td>62993</td>\n",
       "      <td>63989</td>\n",
       "      <td>61604</td>\n",
       "      <td>57848</td>\n",
       "      <td>57431</td>\n",
       "      <td>63648</td>\n",
       "      <td>61137</td>\n",
       "    </tr>\n",
       "    <tr>\n",
       "      <th>2</th>\n",
       "      <td>04000US04</td>\n",
       "      <td>Arizona</td>\n",
       "      <td>45245</td>\n",
       "      <td>46657</td>\n",
       "      <td>47215</td>\n",
       "      <td>46914</td>\n",
       "      <td>45739</td>\n",
       "      <td>46896</td>\n",
       "      <td>48621</td>\n",
       "      <td>47044</td>\n",
       "      <td>50602</td>\n",
       "    </tr>\n",
       "    <tr>\n",
       "      <th>3</th>\n",
       "      <td>04000US05</td>\n",
       "      <td>Arkansas</td>\n",
       "      <td>36658</td>\n",
       "      <td>37057</td>\n",
       "      <td>40795</td>\n",
       "      <td>39586</td>\n",
       "      <td>36538</td>\n",
       "      <td>38587</td>\n",
       "      <td>41302</td>\n",
       "      <td>39018</td>\n",
       "      <td>39919</td>\n",
       "    </tr>\n",
       "    <tr>\n",
       "      <th>4</th>\n",
       "      <td>04000US06</td>\n",
       "      <td>California</td>\n",
       "      <td>51755</td>\n",
       "      <td>55319</td>\n",
       "      <td>55734</td>\n",
       "      <td>57014</td>\n",
       "      <td>56134</td>\n",
       "      <td>54283</td>\n",
       "      <td>53367</td>\n",
       "      <td>57020</td>\n",
       "      <td>57528</td>\n",
       "    </tr>\n",
       "  </tbody>\n",
       "</table>\n",
       "</div>"
      ],
      "text/plain": [
       "       GEOID       State   2005   2006   2007   2008   2009   2010   2011  \\\n",
       "0  04000US01     Alabama  37150  37952  42212  44476  39980  40933  42590   \n",
       "1  04000US02      Alaska  55891  56418  62993  63989  61604  57848  57431   \n",
       "2  04000US04     Arizona  45245  46657  47215  46914  45739  46896  48621   \n",
       "3  04000US05    Arkansas  36658  37057  40795  39586  36538  38587  41302   \n",
       "4  04000US06  California  51755  55319  55734  57014  56134  54283  53367   \n",
       "\n",
       "    2012   2013  \n",
       "0  43464  41381  \n",
       "1  63648  61137  \n",
       "2  47044  50602  \n",
       "3  39018  39919  \n",
       "4  57020  57528  "
      ]
     },
     "execution_count": 12,
     "metadata": {},
     "output_type": "execute_result"
    }
   ],
   "source": [
    "incomedf"
   ]
  },
  {
   "cell_type": "code",
   "execution_count": 13,
   "metadata": {},
   "outputs": [
    {
     "name": "stdout",
     "output_type": "stream",
     "text": [
      "{'Alabama': 42212, 'Alaska': 62993, 'Arizona': 47215, 'Arkansas': 40795, 'California': 55734} 55734\n"
     ]
    }
   ],
   "source": [
    "def descending(df, key):\n",
    "    year = getColumnIndex(df, key)\n",
    "    s ={}\n",
    "    for i in range(len(df.values)):\n",
    "        val = df.values[i][year]\n",
    "        s[df.values[i][1]] = val\n",
    "    print(s,val)\n",
    "    \n",
    "\n",
    "descending(incomedf, '2007')"
   ]
  },
  {
   "cell_type": "code",
   "execution_count": null,
   "metadata": {},
   "outputs": [],
   "source": []
  },
  {
   "cell_type": "markdown",
   "metadata": {},
   "source": [
    "## State with the lowest recorded income from 2005 to 2013\n"
   ]
  },
  {
   "cell_type": "code",
   "execution_count": 14,
   "metadata": {},
   "outputs": [
    {
     "name": "stdout",
     "output_type": "stream",
     "text": [
      "[37150 37952 42212 44476 39980 40933 42590 43464 41381]\n",
      "[55891 56418 62993 63989 61604 57848 57431 63648 61137]\n",
      "[45245 46657 47215 46914 45739 46896 48621 47044 50602]\n",
      "[36658 37057 40795 39586 36538 38587 41302 39018 39919]\n",
      "[51755 55319 55734 57014 56134 54283 53367 57020 57528]\n",
      "Arkansas\n"
     ]
    }
   ],
   "source": [
    "def lowestincome(df):\n",
    "    d = {}\n",
    "    for i in df.values:\n",
    "        f= i[2:]\n",
    "        print(f)\n",
    "        min_f = min(f)\n",
    "        d[min_f] = i[1]\n",
    "    s=min(d.items())\n",
    "    print(s[1])\n",
    "            \n",
    "lowestincome(incomedf)"
   ]
  },
  {
   "cell_type": "code",
   "execution_count": null,
   "metadata": {},
   "outputs": [],
   "source": []
  }
 ],
 "metadata": {
  "kernelspec": {
   "display_name": "Python 3",
   "language": "python",
   "name": "python3"
  },
  "language_info": {
   "codemirror_mode": {
    "name": "ipython",
    "version": 3
   },
   "file_extension": ".py",
   "mimetype": "text/x-python",
   "name": "python",
   "nbconvert_exporter": "python",
   "pygments_lexer": "ipython3",
   "version": "3.7.3"
  }
 },
 "nbformat": 4,
 "nbformat_minor": 2
}
