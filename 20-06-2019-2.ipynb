{
 "cells": [
  {
   "cell_type": "markdown",
   "metadata": {},
   "source": [
    "## Basics of Regualr Expressions\n",
    "\n",
    "- Pattern Matching\n",
    "- Symbolic Notation of a pattern\n",
    "    - Pattern :format which repeats\n",
    "    - Pattern(RE)-The Set of All strings match that pattern\n",
    "- [0-9] -> Any digit in this \n",
    "- [a-z] -> Any lower Case alphabet\n",
    "- [2468]->All single digit multiples of 2\n",
    "   [8642]\n",
    "   [6824]\n",
    "- ^[0-9]{1}$-->only single digit numbers\n",
    "- ^[0-9]{3}$-->only 3 digit numbers\n",
    "- [0-9]*0$ ->All multiples of 10\n",
    "- multiples of 5  ^[1-9]*[05]   or ^[1-9][0-9]*[05]  not working dude  ^([1-9][0-9]*[05]$|^[5])$ working one\n",
    "- \n",
    "- all 10 digit no's ^[1-9][0-9]{10}\n",
    "- \n",
    "-Searching for a word (print) [p][r][i][n][t] both will work for sure\n",
    "-validating mobile no 9876     ^[6-9][0-9]{9}$     ^[6-9][0-9]{9}$|([0][6-9][0-9]{9})$  for no with 0^[6-9][0-9]{9}$|([0][6-9][0-9]{9})$|([+][9][1][6-9][0-9]{9})$\n",
    "\n",
    "-  ^[6-9][0-9]{9}$|([0][6-9][0-9]{9})$|([+][9][1][6-9][0-9]{9})$ for +91\n",
    "-\n",
    "\n",
    "\n",
    "- email validation (username@domain.extension  \n",
    "        - user name\n",
    "            - Length of username :[6,15]\n",
    "            - No Special Characters other than _.\n",
    "            - Should not begin and end with _.\n",
    "            - Character set :all digits and lower case alphabet\n",
    "        - domain\n",
    "            -Length of Domain:[3,15]\n",
    "            - Character set :all digits and Lower case alphabet\n",
    "            -No Special Characters \n",
    "            -No No\n",
    "        - Extension\n",
    "            -Length of extension:[2,4]\n",
    "            -No Special CHaracter\n",
    "            -character set :alphabet\n",
    "            \n",
    "        -[0-9a-z][0-9a-z_.]{4,13}[0-9a-z][@][a-z0-9]{3,18}[.][a-z]{2,4}\n",
    "        \n",
    "       - Any string of length 5 and start with character a and end with z \n",
    "       -- ^[a]...[z]$\n",
    "       -- ^[a].*[z]$ --> any string of any length starting with 'a' and ending with 'z'\n",
    "       \n",
    "       -- phone no validation ^[6-9][0-9]{9}$|[0][6-9][0-9]{9}$|[+][9][1][6-9][0-9]{9}$\n",
    "            \n",
    "       \n",
    "        "
   ]
  },
  {
   "cell_type": "code",
   "execution_count": null,
   "metadata": {},
   "outputs": [],
   "source": []
  },
  {
   "cell_type": "code",
   "execution_count": 20,
   "metadata": {},
   "outputs": [
    {
     "data": {
      "text/plain": [
       "True"
      ]
     },
     "execution_count": 20,
     "metadata": {},
     "output_type": "execute_result"
    }
   ],
   "source": [
    "#function to validate a phone no in python\n",
    "import re\n",
    "def phoneNumberValidator(number):\n",
    "    pattern ='^[6-9][0-9]{9}$|([0][6-9][0-9]{9})$'\n",
    "    if re.match(pattern,str(number)):\n",
    "        #print(\"Valid Number\")\n",
    "        return True\n",
    "        \n",
    "    else:\n",
    "        #print(\"Invalid Number\")\n",
    "        return False\n",
    "    \n",
    "phoneNumberValidator(9581645635)"
   ]
  },
  {
   "cell_type": "code",
   "execution_count": 13,
   "metadata": {},
   "outputs": [
    {
     "name": "stdout",
     "output_type": "stream",
     "text": [
      "Valid Number\n",
      "Valid Number\n",
      "phone no is Invalid\n"
     ]
    }
   ],
   "source": [
    "contacts={}\n",
    "def addContact(name,number):\n",
    "    if name not in contacts and phoneNumberValidator(number):\n",
    "        contacts[name]=phone\n",
    "        print(\"contact added\" % name)\n",
    "    if name in contacts:\n",
    "        print(\"Contact already Exisits\" % name)\n",
    "    elif not phoneNumberValidator(number):\n",
    "        print(\"phone no is Invalid\")\n",
    "    return\n",
    "addContact(\"siva\",9581645635)"
   ]
  },
  {
   "cell_type": "code",
   "execution_count": 1,
   "metadata": {},
   "outputs": [
    {
     "data": {
      "text/plain": [
       "True"
      ]
     },
     "execution_count": 1,
     "metadata": {},
     "output_type": "execute_result"
    }
   ],
   "source": [
    "import re\n",
    "def emailValidator(email):\n",
    "    pattern='[0-9a-z][0-9a-z_.]{4,13}[0-9a-z][@][a-z0-9]{3,18}[.][a-z]{2,4}'\n",
    "    if re.match(pattern,str(email)):\n",
    "        return True\n",
    "    else:\n",
    "        return False\n",
    "    \n",
    "emailValidator('venk444@gmail.com')"
   ]
  },
  {
   "cell_type": "code",
   "execution_count": 3,
   "metadata": {},
   "outputs": [],
   "source": [
    "contact={}"
   ]
  },
  {
   "cell_type": "code",
   "execution_count": 4,
   "metadata": {},
   "outputs": [],
   "source": [
    "def addContact1(name,phone,email):\n",
    "    #verify that the contact doen't in contact list\n",
    "    if name not in contact:\n",
    "        print(name,\"contact Already Added\")\n",
    "    else:\n",
    "        if not phoneNumberValidator(phone):\n",
    "            print(\"Invalid Phone Number\")\n",
    "            return\n",
    "        if not emailValidator(email):\n",
    "            print(\"Invalid Email Id\")\n",
    "            return\n",
    "        \n",
    "        newcontact=[]\n",
    "        newcontact.append(phone)\n",
    "        newcontact.append(email)\n",
    "        contact[name]=newcontact\n",
    "    return"
   ]
  },
  {
   "cell_type": "code",
   "execution_count": 5,
   "metadata": {},
   "outputs": [
    {
     "name": "stdout",
     "output_type": "stream",
     "text": [
      "siva contact Already Added\n"
     ]
    }
   ],
   "source": [
    "addContact1(\"siva\",9581645665,'venk444@gmail.com')"
   ]
  },
  {
   "cell_type": "code",
   "execution_count": 6,
   "metadata": {},
   "outputs": [
    {
     "data": {
      "text/plain": [
       "{}"
      ]
     },
     "execution_count": 6,
     "metadata": {},
     "output_type": "execute_result"
    }
   ],
   "source": [
    "contact"
   ]
  },
  {
   "cell_type": "code",
   "execution_count": 40,
   "metadata": {},
   "outputs": [
    {
     "data": {
      "text/plain": [
       "[]"
      ]
     },
     "execution_count": 40,
     "metadata": {},
     "output_type": "execute_result"
    }
   ],
   "source": [
    "def searchContacts(name):\n",
    "    if name in contacts:\n",
    "        print(name)\n",
    "        print(\"Phone:\",contact[name][0])\n",
    "        print(\"email:\",contacts[name][1])\n",
    "    else:\n",
    "        print(\"does no exists\")\n",
    "        \n"
   ]
  },
  {
   "cell_type": "code",
   "execution_count": 51,
   "metadata": {},
   "outputs": [
    {
     "name": "stdout",
     "output_type": "stream",
     "text": [
      "name \n",
      " Phone : 9581645635 \n",
      " Email name@domain.ext\n"
     ]
    }
   ],
   "source": [
    "#function to list all contacts\n",
    "def listAllConatcts():\n",
    "    for contact,info in contacts.items():\n",
    "        print(contact,\"\\n\",\"Phone :\",info[0],\"\\n\",\"Email\",info[1])\n",
    "    return\n",
    "listAllConatcts()"
   ]
  },
  {
   "cell_type": "code",
   "execution_count": null,
   "metadata": {},
   "outputs": [],
   "source": [
    "#function to edit contact information\n",
    "def editContact(name,phone,email):\n",
    "    if name in contacts\n",
    "    "
   ]
  },
  {
   "cell_type": "markdown",
   "metadata": {},
   "source": [
    "## File Handling\n",
    "\n",
    "\n",
    "#### File -Document Containing Some Information residing \n",
    "##### Types -Text ,Pdf ,CSV etc\n",
    "- File I/O  -- channeling I/O data to Files\n",
    "- Default I/O channels --Keyboard /screen\n",
    "    -Change I/O channel to files for Reading Writing into Files\n",
    "- Reading a file --Input\n",
    "- Write to a file --Output\n",
    "- Read/Write a file -open(filename,mode)\n",
    "-"
   ]
  },
  {
   "cell_type": "code",
   "execution_count": 56,
   "metadata": {
    "scrolled": true
   },
   "outputs": [
    {
     "name": "stdout",
     "output_type": "stream",
     "text": [
      "Line1\n",
      "Line2\n",
      "Line3\n"
     ]
    }
   ],
   "source": [
    "#function to Read A file\n",
    "def readFile(filename):\n",
    "    f=open(filename,'r')\n",
    "    filedata=f.read()\n",
    "    f.close()\n",
    "    return filedata\n",
    "\n",
    "filename = 'DataFiles/data.txt'\n",
    "for line in readFile(filename).split(\"\\n\"):\n",
    "    print(line)"
   ]
  },
  {
   "cell_type": "code",
   "execution_count": 60,
   "metadata": {},
   "outputs": [
    {
     "name": "stdout",
     "output_type": "stream",
     "text": [
      "Line1\n",
      "Line2\n",
      "Line3Line1\n",
      "Line2\n",
      "Line3\n"
     ]
    }
   ],
   "source": [
    "def printFileDataLines(filename):\n",
    "    f=open(filename,'r')\n",
    "    for line in f:\n",
    "        print(line,end='')\n",
    "    return\n",
    "printFileDataLines(filename)\n",
    "print(readFile(filename))"
   ]
  },
  {
   "cell_type": "code",
   "execution_count": 65,
   "metadata": {},
   "outputs": [
    {
     "name": "stdout",
     "output_type": "stream",
     "text": [
      "Line1\n",
      "Line2\n",
      "Line3Line1\n",
      "Line2\n",
      "Line3\n"
     ]
    }
   ],
   "source": [
    "def printFileDataLines(filename):\n",
    "    with open(filename,'r') as f:\n",
    "        for line in f:\n",
    "            print(line,end='')\n",
    "    return\n",
    "printFileDataLines(filename)\n",
    "print(readFile(filename))"
   ]
  },
  {
   "cell_type": "code",
   "execution_count": 67,
   "metadata": {},
   "outputs": [],
   "source": [
    "# Function to Write into file\n",
    "def writeIntoFile(filename,filedata):\n",
    "    with open(filename,'w') as f:\n",
    "        f.write(filedata)\n",
    "    return\n",
    "filename ='DataFiles/data.txt'\n",
    "writeIntoFile(filename,\"new data\")"
   ]
  },
  {
   "cell_type": "code",
   "execution_count": 71,
   "metadata": {},
   "outputs": [],
   "source": [
    "#Function to append data to a file\n",
    "def appendDataToFile(filename,filedata):\n",
    "    with open(filename,'a')as f:\n",
    "        f.write(filedata)\n",
    "    return\n",
    "    \n",
    "filedata=\"Line1\\nLine2\"\n",
    "appendDataToFile(filename,filedata)"
   ]
  },
  {
   "cell_type": "code",
   "execution_count": 2,
   "metadata": {},
   "outputs": [
    {
     "ename": "NameError",
     "evalue": "name 'filename' is not defined",
     "output_type": "error",
     "traceback": [
      "\u001b[1;31m---------------------------------------------------------------------------\u001b[0m",
      "\u001b[1;31mNameError\u001b[0m                                 Traceback (most recent call last)",
      "\u001b[1;32m<ipython-input-2-8450aa7086e9>\u001b[0m in \u001b[0;36m<module>\u001b[1;34m\u001b[0m\n\u001b[0;32m      7\u001b[0m \u001b[1;33m\u001b[0m\u001b[0m\n\u001b[0;32m      8\u001b[0m \u001b[0mfiledata\u001b[0m\u001b[1;33m=\u001b[0m\u001b[1;33m[\u001b[0m\u001b[1;34m\"Line1\"\u001b[0m\u001b[1;33m,\u001b[0m\u001b[1;34m\"Line2\"\u001b[0m\u001b[1;33m]\u001b[0m\u001b[1;33m\u001b[0m\u001b[1;33m\u001b[0m\u001b[0m\n\u001b[1;32m----> 9\u001b[1;33m \u001b[0mappendDataToFile\u001b[0m\u001b[1;33m(\u001b[0m\u001b[0mfilename\u001b[0m\u001b[1;33m,\u001b[0m\u001b[0mfiledata\u001b[0m\u001b[1;33m)\u001b[0m\u001b[1;33m\u001b[0m\u001b[1;33m\u001b[0m\u001b[0m\n\u001b[0m",
      "\u001b[1;31mNameError\u001b[0m: name 'filename' is not defined"
     ]
    }
   ],
   "source": [
    "#Function to append data to a file\n",
    "def appendDataToFile(filename,filedata):\n",
    "    with open(filename,'a')as f:\n",
    "        for line in filedata:\n",
    "            f.write(line,end='/n')\n",
    "    return\n",
    "    \n",
    "filedata=[\"Line1\",\"Line2\"]\n",
    "appendDataToFile(filename,filedata)"
   ]
  },
  {
   "cell_type": "code",
   "execution_count": null,
   "metadata": {},
   "outputs": [],
   "source": []
  }
 ],
 "metadata": {
  "kernelspec": {
   "display_name": "Python 3",
   "language": "python",
   "name": "python3"
  },
  "language_info": {
   "codemirror_mode": {
    "name": "ipython",
    "version": 3
   },
   "file_extension": ".py",
   "mimetype": "text/x-python",
   "name": "python",
   "nbconvert_exporter": "python",
   "pygments_lexer": "ipython3",
   "version": "3.7.3"
  }
 },
 "nbformat": 4,
 "nbformat_minor": 2
}
