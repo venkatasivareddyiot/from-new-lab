{
 "cells": [
  {
   "cell_type": "code",
   "execution_count": 23,
   "metadata": {},
   "outputs": [
    {
     "name": "stdout",
     "output_type": "stream",
     "text": [
      "sivavenkat,+918328653897,venkatasivareddy444@gmail.com\n",
      "sivag,+917675816446,venkatasivareddy.t@apssdc.in\n",
      "\n",
      "siva already in contacts\n"
     ]
    }
   ],
   "source": [
    "#filename='DataFiles/jam.txt'\n",
    "#function to add contact to conatcts text file\n",
    "from Packages.validators import phoneNoValidator as pnv ,emailValidator as emv\n",
    "\n",
    "def addContact(name,phone,email):\n",
    "    \n",
    "    #store name,phone,email in the contacts file\n",
    "    filename='DataFiles/jam.txt'\n",
    "    if not checkContactExsists(name):\n",
    "        print('hello')\n",
    "        if pnv(phone) and emv(email):\n",
    "            with open(filename,'a')as f:\n",
    "                line=name + ',' + phone + ',' +email + '\\n'\n",
    "                f.write(line)\n",
    "                print(name,'added to contacts')\n",
    "        print(\"invalid phone or email\")\n",
    "    else:\n",
    "        print(name,'already in contacts')\n",
    "    return\n",
    "import re\n",
    "#function to check if contact is already exsists\n",
    "def checkContactExsists(name):\n",
    "    filename='DataFiles/jam.txt'\n",
    "    with open (filename,'r') as f:\n",
    "        filedata=f.read()\n",
    "        print(filedata)\n",
    "        pattern='^'+name+'$'\n",
    "        \n",
    "    return re.search(name,filedata)\n",
    "addContact(\"siva\",\"+917675816446\",\"venkatasivareddy.t@apssdc.in\")"
   ]
  },
  {
   "cell_type": "code",
   "execution_count": 39,
   "metadata": {},
   "outputs": [],
   "source": [
    "def kHighestFrequency(s,k):\n",
    "    #unique characters with frequiencies\n",
    "    unique={}\n",
    "    for c in s:\n",
    "        if c not in unique:\n",
    "            unique[c]=1\n",
    "        else:\n",
    "            unique[c]+=1\n",
    "    #unique ={9:2,8:1,7:5,6:4,5:1,2:1,3:1}\n",
    "    #extract alll unique frequencies in a list\n",
    "    uniqfreq=[]\n",
    "    for i in unique.values():\n",
    "        if i not in uniqfreq:\n",
    "            uniqfreq.append(i)\n",
    "    \n",
    "    #print(uniqfreq)\n",
    "    uniqfreq=sorted(uniqfreq,reverse=True)\n",
    "    #print(uniqfreq)\n",
    "    if(k<len(uniqfreq)):\n",
    "        kfreq=uniqfreq[k-1]\n",
    "    else:\n",
    "        return -1  \n",
    "    kfreqchar=[]\n",
    "    for item in unique.items():\n",
    "        if item[1]==kfreq:\n",
    "            kfreqchar.append(item[0])\n",
    "    #print(kfreqchar)\n",
    "    print(min(kfreqchar))\n",
    "    "
   ]
  },
  {
   "cell_type": "code",
   "execution_count": 40,
   "metadata": {},
   "outputs": [
    {
     "name": "stdout",
     "output_type": "stream",
     "text": [
      "1\n"
     ]
    }
   ],
   "source": [
    "kHighestFrequency([1,2,3,4,5,4,3,2,1,5,4,3,2,6,7,8,9,7,6,5,4,3,3,2,21],4)"
   ]
  },
  {
   "cell_type": "code",
   "execution_count": 41,
   "metadata": {},
   "outputs": [],
   "source": [
    "file='DataFiles/k-largest-frequency-input.txt'"
   ]
  },
  {
   "cell_type": "code",
   "execution_count": 42,
   "metadata": {},
   "outputs": [
    {
     "name": "stdout",
     "output_type": "stream",
     "text": [
      "s\n",
      "None\n",
      "g\n",
      "None\n",
      "h\n",
      "None\n",
      "e\n",
      "None\n",
      "w\n",
      "None\n",
      "r\n",
      "None\n",
      "n\n",
      "None\n",
      "k\n",
      "None\n",
      "-1\n",
      "-1\n"
     ]
    }
   ],
   "source": [
    "with open(file) as f:\n",
    "    t=int(f.readline())\n",
    "    for i in range(0,t):\n",
    "        s=f.readline()\n",
    "        k=int(f.readline())\n",
    "        print(kHighestFrequency(s,k))"
   ]
  },
  {
   "cell_type": "code",
   "execution_count": null,
   "metadata": {},
   "outputs": [],
   "source": [
    "if len(uniqfreq)>k:\n",
    "    return"
   ]
  },
  {
   "cell_type": "code",
   "execution_count": null,
   "metadata": {},
   "outputs": [],
   "source": [
    "with open('DataFiles/k-largest'):\n",
    "    t=int(f.readline())\n",
    "    for i in range (f):\n",
    "        s=f.readline()\n",
    "        k=int(f.readline())\n",
    "        "
   ]
  }
 ],
 "metadata": {
  "kernelspec": {
   "display_name": "Python 3",
   "language": "python",
   "name": "python3"
  },
  "language_info": {
   "codemirror_mode": {
    "name": "ipython",
    "version": 3
   },
   "file_extension": ".py",
   "mimetype": "text/x-python",
   "name": "python",
   "nbconvert_exporter": "python",
   "pygments_lexer": "ipython3",
   "version": "3.7.3"
  }
 },
 "nbformat": 4,
 "nbformat_minor": 2
}
