{
 "cells": [
  {
   "cell_type": "code",
   "execution_count": 23,
   "metadata": {},
   "outputs": [
    {
     "name": "stdout",
     "output_type": "stream",
     "text": [
      "sivavenkat,+918328653897,venkatasivareddy444@gmail.com\n",
      "sivag,+917675816446,venkatasivareddy.t@apssdc.in\n",
      "\n",
      "siva already in contacts\n"
     ]
    }
   ],
   "source": [
    "#filename='DataFiles/jam.txt'\n",
    "#function to add contact to conatcts text file\n",
    "from Packages.validators import phoneNoValidator as pnv ,emailValidator as emv\n",
    "\n",
    "def addContact(name,phone,email):\n",
    "    \n",
    "    #store name,phone,email in the contacts file\n",
    "    filename='DataFiles/jam.txt'\n",
    "    if not checkContactExsists(name):\n",
    "        print('hello')\n",
    "        if pnv(phone) and emv(email):\n",
    "            with open(filename,'a')as f:\n",
    "                line=name + ',' + phone + ',' +email + '\\n'\n",
    "                f.write(line)\n",
    "                print(name,'added to contacts')\n",
    "        print(\"invalid phone or email\")\n",
    "    else:\n",
    "        print(name,'already in contacts')\n",
    "    return\n",
    "import re\n",
    "#function to check if contact is already exsists\n",
    "def checkContactExsists(name):\n",
    "    filename='DataFiles/jam.txt'\n",
    "    with open (filename,'r') as f:\n",
    "        filedata=f.read()\n",
    "        print(filedata)\n",
    "        pattern='^'+name+'$'\n",
    "        \n",
    "    return re.search(name,filedata)\n",
    "addContact(\"siva\",\"+917675816446\",\"venkatasivareddy.t@apssdc.in\")"
   ]
  },
  {
   "cell_type": "code",
   "execution_count": null,
   "metadata": {},
   "outputs": [],
   "source": []
  },
  {
   "cell_type": "code",
   "execution_count": null,
   "metadata": {},
   "outputs": [],
   "source": []
  }
 ],
 "metadata": {
  "kernelspec": {
   "display_name": "Python 3",
   "language": "python",
   "name": "python3"
  },
  "language_info": {
   "codemirror_mode": {
    "name": "ipython",
    "version": 3
   },
   "file_extension": ".py",
   "mimetype": "text/x-python",
   "name": "python",
   "nbconvert_exporter": "python",
   "pygments_lexer": "ipython3",
   "version": "3.7.3"
  }
 },
 "nbformat": 4,
 "nbformat_minor": 2
}
