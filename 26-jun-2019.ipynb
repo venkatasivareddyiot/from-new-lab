{
 "cells": [
  {
   "cell_type": "code",
   "execution_count": 23,
   "metadata": {},
   "outputs": [
    {
     "name": "stdout",
     "output_type": "stream",
     "text": [
      "sivavenkat,+918328653897,venkatasivareddy444@gmail.com\n",
      "sivag,+917675816446,venkatasivareddy.t@apssdc.in\n",
      "\n",
      "siva already in contacts\n"
     ]
    }
   ],
   "source": [
    "#filename='DataFiles/jam.txt'\n",
    "#function to add contact to conatcts text file\n",
    "from Packages.validators import phoneNoValidator as pnv ,emailValidator as emv\n",
    "\n",
    "def addContact(name,phone,email):\n",
    "    \n",
    "    #store name,phone,email in the contacts file\n",
    "    filename='DataFiles/jam.txt'\n",
    "    if not checkContactExsists(name):\n",
    "        print('hello')\n",
    "        if pnv(phone) and emv(email):\n",
    "            with open(filename,'a')as f:\n",
    "                line=name + ',' + phone + ',' +email + '\\n'\n",
    "                f.write(line)\n",
    "                print(name,'added to contacts')\n",
    "        print(\"invalid phone or email\")\n",
    "    else:\n",
    "        print(name,'already in contacts')\n",
    "    return\n",
    "import re\n",
    "#function to check if contact is already exsists\n",
    "def checkContactExsists(name):\n",
    "    filename='DataFiles/jam.txt'\n",
    "    with open (filename,'r') as f:\n",
    "        filedata=f.read()\n",
    "        print(filedata)\n",
    "        pattern='^'+name+'$'\n",
    "        \n",
    "    return re.search(name,filedata)\n",
    "addContact(\"siva\",\"+917675816446\",\"venkatasivareddy.t@apssdc.in\")"
   ]
  },
  {
   "cell_type": "code",
   "execution_count": 24,
   "metadata": {},
   "outputs": [],
   "source": [
    "def kHighestFrequency(s,k):\n",
    "    #unique characters with frequiencies\n",
    "    unique={}\n",
    "    for c in s:\n",
    "        if c not in unique:\n",
    "            unique[c]=1\n",
    "        else:\n",
    "            unique[c]+=1\n",
    "    #unique ={9:2,8:1,7:5,6:4,5:1,2:1,3:1}\n",
    "    #extract alll unique frequencies in a list\n",
    "    uniqfreq=[]\n",
    "    for i in unique:\n",
    "        if i not in uniqfreq:\n",
    "            uniqfreq.append(i)\n",
    "    uniqfreq=sorted(uniqfreq,reverse=True)\n",
    "    kfreq=uniqfreq[k-1]\n",
    "    kfreqchar=[]\n",
    "    for item in unique.keys():\n",
    "        if item[1]==kfreq:\n",
    "            kfreqchar.append(item[0])\n",
    "    print(kfreqchar)\n",
    "    "
   ]
  },
  {
   "cell_type": "code",
   "execution_count": 25,
   "metadata": {},
   "outputs": [
    {
     "ename": "TypeError",
     "evalue": "'int' object is not subscriptable",
     "output_type": "error",
     "traceback": [
      "\u001b[1;31m---------------------------------------------------------------------------\u001b[0m",
      "\u001b[1;31mTypeError\u001b[0m                                 Traceback (most recent call last)",
      "\u001b[1;32m<ipython-input-25-660336ff9ad2>\u001b[0m in \u001b[0;36m<module>\u001b[1;34m\u001b[0m\n\u001b[1;32m----> 1\u001b[1;33m \u001b[0mkHighestFrequency\u001b[0m\u001b[1;33m(\u001b[0m\u001b[1;33m[\u001b[0m\u001b[1;36m1\u001b[0m\u001b[1;33m,\u001b[0m\u001b[1;36m2\u001b[0m\u001b[1;33m,\u001b[0m\u001b[1;36m3\u001b[0m\u001b[1;33m,\u001b[0m\u001b[1;36m4\u001b[0m\u001b[1;33m,\u001b[0m\u001b[1;36m5\u001b[0m\u001b[1;33m,\u001b[0m\u001b[1;36m4\u001b[0m\u001b[1;33m,\u001b[0m\u001b[1;36m3\u001b[0m\u001b[1;33m,\u001b[0m\u001b[1;36m2\u001b[0m\u001b[1;33m,\u001b[0m\u001b[1;36m1\u001b[0m\u001b[1;33m,\u001b[0m\u001b[1;36m5\u001b[0m\u001b[1;33m,\u001b[0m\u001b[1;36m4\u001b[0m\u001b[1;33m,\u001b[0m\u001b[1;36m3\u001b[0m\u001b[1;33m,\u001b[0m\u001b[1;36m2\u001b[0m\u001b[1;33m,\u001b[0m\u001b[1;36m6\u001b[0m\u001b[1;33m,\u001b[0m\u001b[1;36m7\u001b[0m\u001b[1;33m,\u001b[0m\u001b[1;36m8\u001b[0m\u001b[1;33m,\u001b[0m\u001b[1;36m9\u001b[0m\u001b[1;33m,\u001b[0m\u001b[1;36m7\u001b[0m\u001b[1;33m,\u001b[0m\u001b[1;36m6\u001b[0m\u001b[1;33m,\u001b[0m\u001b[1;36m5\u001b[0m\u001b[1;33m,\u001b[0m\u001b[1;36m4\u001b[0m\u001b[1;33m,\u001b[0m\u001b[1;36m3\u001b[0m\u001b[1;33m,\u001b[0m\u001b[1;36m3\u001b[0m\u001b[1;33m,\u001b[0m\u001b[1;36m2\u001b[0m\u001b[1;33m,\u001b[0m\u001b[1;36m21\u001b[0m\u001b[1;33m]\u001b[0m\u001b[1;33m,\u001b[0m\u001b[1;36m4\u001b[0m\u001b[1;33m)\u001b[0m\u001b[1;33m\u001b[0m\u001b[1;33m\u001b[0m\u001b[0m\n\u001b[0m",
      "\u001b[1;32m<ipython-input-24-7093b14f8cf1>\u001b[0m in \u001b[0;36mkHighestFrequency\u001b[1;34m(s, k)\u001b[0m\n\u001b[0;32m     17\u001b[0m     \u001b[0mkfreqchar\u001b[0m\u001b[1;33m=\u001b[0m\u001b[1;33m[\u001b[0m\u001b[1;33m]\u001b[0m\u001b[1;33m\u001b[0m\u001b[1;33m\u001b[0m\u001b[0m\n\u001b[0;32m     18\u001b[0m     \u001b[1;32mfor\u001b[0m \u001b[0mitem\u001b[0m \u001b[1;32min\u001b[0m \u001b[0munique\u001b[0m\u001b[1;33m.\u001b[0m\u001b[0mkeys\u001b[0m\u001b[1;33m(\u001b[0m\u001b[1;33m)\u001b[0m\u001b[1;33m:\u001b[0m\u001b[1;33m\u001b[0m\u001b[1;33m\u001b[0m\u001b[0m\n\u001b[1;32m---> 19\u001b[1;33m         \u001b[1;32mif\u001b[0m \u001b[0mitem\u001b[0m\u001b[1;33m[\u001b[0m\u001b[1;36m1\u001b[0m\u001b[1;33m]\u001b[0m\u001b[1;33m==\u001b[0m\u001b[0mkfreq\u001b[0m\u001b[1;33m:\u001b[0m\u001b[1;33m\u001b[0m\u001b[1;33m\u001b[0m\u001b[0m\n\u001b[0m\u001b[0;32m     20\u001b[0m             \u001b[0mkfreqchar\u001b[0m\u001b[1;33m.\u001b[0m\u001b[0mappend\u001b[0m\u001b[1;33m(\u001b[0m\u001b[0mitem\u001b[0m\u001b[1;33m[\u001b[0m\u001b[1;36m0\u001b[0m\u001b[1;33m]\u001b[0m\u001b[1;33m)\u001b[0m\u001b[1;33m\u001b[0m\u001b[1;33m\u001b[0m\u001b[0m\n\u001b[0;32m     21\u001b[0m     \u001b[0mprint\u001b[0m\u001b[1;33m(\u001b[0m\u001b[0mkfreqchar\u001b[0m\u001b[1;33m)\u001b[0m\u001b[1;33m\u001b[0m\u001b[1;33m\u001b[0m\u001b[0m\n",
      "\u001b[1;31mTypeError\u001b[0m: 'int' object is not subscriptable"
     ]
    }
   ],
   "source": [
    "kHighestFrequency([1,2,3,4,5,4,3,2,1,5,4,3,2,6,7,8,9,7,6,5,4,3,3,2,21],4)"
   ]
  },
  {
   "cell_type": "code",
   "execution_count": null,
   "metadata": {},
   "outputs": [],
   "source": [
    "if len(uniqfreq)>k:\n",
    "    return"
   ]
  },
  {
   "cell_type": "code",
   "execution_count": null,
   "metadata": {},
   "outputs": [],
   "source": [
    "with open('DataFiles/k-largest'):\n",
    "    t=int(f.readline())\n",
    "    for i in range (f):\n",
    "        s=f.readline()\n",
    "        k=int(f.readline())\n",
    "        "
   ]
  }
 ],
 "metadata": {
  "kernelspec": {
   "display_name": "Python 3",
   "language": "python",
   "name": "python3"
  },
  "language_info": {
   "codemirror_mode": {
    "name": "ipython",
    "version": 3
   },
   "file_extension": ".py",
   "mimetype": "text/x-python",
   "name": "python",
   "nbconvert_exporter": "python",
   "pygments_lexer": "ipython3",
   "version": "3.7.3"
  }
 },
 "nbformat": 4,
 "nbformat_minor": 2
}
