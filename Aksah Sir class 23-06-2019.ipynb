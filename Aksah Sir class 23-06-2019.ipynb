{
 "cells": [
  {
   "cell_type": "code",
   "execution_count": 3,
   "metadata": {},
   "outputs": [],
   "source": [
    "filename='DataFiles/Ayyappa.txt'"
   ]
  },
  {
   "cell_type": "code",
   "execution_count": 5,
   "metadata": {},
   "outputs": [
    {
     "name": "stdout",
     "output_type": "stream",
     "text": [
      "3\n"
     ]
    }
   ],
   "source": [
    "#function to print unique word count\n",
    "def uniqueword_count(filename):\n",
    "    with open(filename,'r') as f:\n",
    "        filename = f.read()\n",
    "        words=filename.split()\n",
    "        unique_words=set(words)\n",
    "        return len(list(unique_words))    \n",
    "print(uniqueword_count(\"Ayyappa.txt\"))"
   ]
  },
  {
   "cell_type": "code",
   "execution_count": 7,
   "metadata": {},
   "outputs": [
    {
     "name": "stdout",
     "output_type": "stream",
     "text": [
      "jam kdjvn lsnsdg  sljdnlsdng  ddlfgnslng  sldgnsdknww slskdn segkn\n",
      "sek;msdg\n",
      "slkdgnsg\n",
      "selkgen\n",
      "sekgnsenf\n"
     ]
    }
   ],
   "source": [
    "with open(filename,'r')as f:\n",
    "    filename=f.read()\n",
    "    print(filename)\n",
    "    f.close()\n",
    "\n"
   ]
  },
  {
   "cell_type": "code",
   "execution_count": 13,
   "metadata": {},
   "outputs": [
    {
     "ename": "OSError",
     "evalue": "[Errno 22] Invalid argument: 'jam kdjvn lsnsdg  sljdnlsdng  ddlfgnslng  sldgnsdknww slskdn segkn\\nsek;msdg\\nslkdgnsg\\nselkgen\\nsekgnsenf'",
     "output_type": "error",
     "traceback": [
      "\u001b[1;31m---------------------------------------------------------------------------\u001b[0m",
      "\u001b[1;31mOSError\u001b[0m                                   Traceback (most recent call last)",
      "\u001b[1;32m<ipython-input-13-60d3a9c0857e>\u001b[0m in \u001b[0;36m<module>\u001b[1;34m\u001b[0m\n\u001b[0;32m      5\u001b[0m         \u001b[0munique_words\u001b[0m\u001b[1;33m=\u001b[0m\u001b[0mset\u001b[0m\u001b[1;33m(\u001b[0m\u001b[0mwords\u001b[0m\u001b[1;33m)\u001b[0m\u001b[1;33m\u001b[0m\u001b[1;33m\u001b[0m\u001b[0m\n\u001b[0;32m      6\u001b[0m         \u001b[1;32mreturn\u001b[0m \u001b[1;33m(\u001b[0m\u001b[0mlist\u001b[0m\u001b[1;33m(\u001b[0m\u001b[0munique_words\u001b[0m\u001b[1;33m)\u001b[0m\u001b[1;33m)\u001b[0m\u001b[1;33m\u001b[0m\u001b[1;33m\u001b[0m\u001b[0m\n\u001b[1;32m----> 7\u001b[1;33m \u001b[0mprint\u001b[0m\u001b[1;33m(\u001b[0m\u001b[0muniqueword\u001b[0m\u001b[1;33m(\u001b[0m\u001b[0mfilename\u001b[0m\u001b[1;33m)\u001b[0m\u001b[1;33m)\u001b[0m\u001b[1;33m\u001b[0m\u001b[1;33m\u001b[0m\u001b[0m\n\u001b[0m",
      "\u001b[1;32m<ipython-input-13-60d3a9c0857e>\u001b[0m in \u001b[0;36muniqueword\u001b[1;34m(filename)\u001b[0m\n\u001b[0;32m      1\u001b[0m \u001b[1;32mdef\u001b[0m \u001b[0muniqueword\u001b[0m\u001b[1;33m(\u001b[0m\u001b[0mfilename\u001b[0m\u001b[1;33m)\u001b[0m\u001b[1;33m:\u001b[0m\u001b[1;33m\u001b[0m\u001b[1;33m\u001b[0m\u001b[0m\n\u001b[1;32m----> 2\u001b[1;33m     \u001b[1;32mwith\u001b[0m \u001b[0mopen\u001b[0m\u001b[1;33m(\u001b[0m\u001b[0mfilename\u001b[0m\u001b[1;33m,\u001b[0m\u001b[1;34m'r'\u001b[0m\u001b[1;33m)\u001b[0m \u001b[1;32mas\u001b[0m \u001b[0mf\u001b[0m\u001b[1;33m:\u001b[0m\u001b[1;33m\u001b[0m\u001b[1;33m\u001b[0m\u001b[0m\n\u001b[0m\u001b[0;32m      3\u001b[0m         \u001b[0mfilename\u001b[0m \u001b[1;33m=\u001b[0m \u001b[0mf\u001b[0m\u001b[1;33m.\u001b[0m\u001b[0mread\u001b[0m\u001b[1;33m(\u001b[0m\u001b[1;33m)\u001b[0m\u001b[1;33m\u001b[0m\u001b[1;33m\u001b[0m\u001b[0m\n\u001b[0;32m      4\u001b[0m         \u001b[0mwords\u001b[0m\u001b[1;33m=\u001b[0m\u001b[0mfilename\u001b[0m\u001b[1;33m.\u001b[0m\u001b[0msplit\u001b[0m\u001b[1;33m(\u001b[0m\u001b[1;33m)\u001b[0m\u001b[1;33m\u001b[0m\u001b[1;33m\u001b[0m\u001b[0m\n\u001b[0;32m      5\u001b[0m         \u001b[0munique_words\u001b[0m\u001b[1;33m=\u001b[0m\u001b[0mset\u001b[0m\u001b[1;33m(\u001b[0m\u001b[0mwords\u001b[0m\u001b[1;33m)\u001b[0m\u001b[1;33m\u001b[0m\u001b[1;33m\u001b[0m\u001b[0m\n",
      "\u001b[1;31mOSError\u001b[0m: [Errno 22] Invalid argument: 'jam kdjvn lsnsdg  sljdnlsdng  ddlfgnslng  sldgnsdknww slskdn segkn\\nsek;msdg\\nslkdgnsg\\nselkgen\\nsekgnsenf'"
     ]
    }
   ],
   "source": [
    "#function to print unique words\n",
    "def uniqueword(filename):\n",
    "    with open(filename,'r') as f:\n",
    "        filename = f.read()\n",
    "        words=filename.split()\n",
    "        unique_words=set(words)\n",
    "        return (list(unique_words))    \n",
    "print(uniqueword(filename))"
   ]
  },
  {
   "cell_type": "code",
   "execution_count": 48,
   "metadata": {},
   "outputs": [],
   "source": [
    "fildata='Datafiles/random.txt'"
   ]
  },
  {
   "cell_type": "code",
   "execution_count": 52,
   "metadata": {},
   "outputs": [
    {
     "data": {
      "text/plain": [
       "{'Plans': 1,\n",
       " 'away': 1,\n",
       " 'available': 1,\n",
       " 'one': 1,\n",
       " 'the': 11,\n",
       " 'filled': 1,\n",
       " 'stress': 1,\n",
       " 'SQL,': 1,\n",
       " 'If': 2,\n",
       " 'into': 1,\n",
       " 'Real': 1,\n",
       " 'data': 13,\n",
       " 'some': 1,\n",
       " 'be': 5,\n",
       " 'real': 6,\n",
       " 'hand-entering': 1,\n",
       " 'user': 2,\n",
       " 'Mockaroo': 3,\n",
       " 'own': 5,\n",
       " 'robust': 1,\n",
       " 'a': 149,\n",
       " 'is': 7,\n",
       " 'banging': 1,\n",
       " 'closely': 1,\n",
       " 'also': 1,\n",
       " 'variety': 1,\n",
       " 'APIs.': 1,\n",
       " 'development': 1,\n",
       " 'conditions': 2,\n",
       " 'Need': 2,\n",
       " 'data,': 2,\n",
       " 'using': 2,\n",
       " 'will': 4,\n",
       " 'as': 9,\n",
       " 'mock': 2,\n",
       " 'design': 2,\n",
       " 'delivering': 1,\n",
       " \"won't\": 1,\n",
       " 'usage,': 1,\n",
       " 'never': 1,\n",
       " 'experience': 1,\n",
       " '1,000': 1,\n",
       " 'private': 1,\n",
       " 'features': 1,\n",
       " 'today!': 1,\n",
       " 'realistic': 3,\n",
       " 'undiscovered.': 1,\n",
       " 'UI,': 1,\n",
       " 'looking': 1,\n",
       " 'such': 1,\n",
       " 'data?': 1,\n",
       " 'likely': 1,\n",
       " 'responses,': 1,\n",
       " 'with': 6,\n",
       " 'simulate': 1,\n",
       " 'application': 3,\n",
       " 'puts': 1,\n",
       " 'at': 35,\n",
       " 'from': 1,\n",
       " 'generate': 1,\n",
       " 'users': 1,\n",
       " 'In': 1,\n",
       " 'unicode': 1,\n",
       " 'Paralellize': 1,\n",
       " 'browser': 1,\n",
       " 'application,': 1,\n",
       " 'an': 24,\n",
       " 'production': 4,\n",
       " 'without': 1,\n",
       " 'API': 6,\n",
       " 'important': 1,\n",
       " 'cloud.': 1,\n",
       " 'meaningful': 1,\n",
       " 'want': 1,\n",
       " 'enter': 2,\n",
       " 'improving': 1,\n",
       " 'sure': 1,\n",
       " 'control': 1,\n",
       " 'Testing': 1,\n",
       " 'record': 1,\n",
       " 'volume': 1,\n",
       " 'new': 1,\n",
       " 'contain': 1,\n",
       " 'catch': 1,\n",
       " 'make': 2,\n",
       " 'app?': 1,\n",
       " 'When': 2,\n",
       " 'requests': 2,\n",
       " 'them': 1,\n",
       " \"they'll\": 1,\n",
       " 'Mock': 4,\n",
       " 'usage': 2,\n",
       " 'are': 1,\n",
       " 'put': 2,\n",
       " 'Worse,': 1,\n",
       " 'together': 1,\n",
       " 'tester.': 1,\n",
       " 'UI': 3,\n",
       " 'languages.': 1,\n",
       " 'quality': 1,\n",
       " \"you'll\": 5,\n",
       " 'to': 13,\n",
       " 'lets': 1,\n",
       " 'API.': 2,\n",
       " 'developing': 1,\n",
       " 'timing,': 1,\n",
       " 'bugs': 1,\n",
       " 'prototype': 1,\n",
       " 'docker': 1,\n",
       " 'can': 2,\n",
       " 'real-world': 1,\n",
       " 'you': 27,\n",
       " 'your': 13,\n",
       " 'With': 1,\n",
       " 'few': 1,\n",
       " 'uncover': 1,\n",
       " 'of': 4,\n",
       " 'accumulate': 1,\n",
       " 'in': 25,\n",
       " 'By': 1,\n",
       " 'going': 1,\n",
       " 'others,': 1,\n",
       " 'engaged': 1,\n",
       " 'days': 1,\n",
       " 'filling': 1,\n",
       " 'nice': 1,\n",
       " 'CSV,': 1,\n",
       " 'JSON,': 1,\n",
       " 'You': 1,\n",
       " 'better': 1,\n",
       " 'Excel': 1,\n",
       " \"you're\": 4,\n",
       " 'production,': 1,\n",
       " 'both': 1,\n",
       " 'making': 2,\n",
       " 'varied': 1,\n",
       " 'code,': 1,\n",
       " 'faster.': 1,\n",
       " 'have': 1,\n",
       " 'build': 1,\n",
       " 'database': 2,\n",
       " 'deploy': 1,\n",
       " 'image': 1,\n",
       " 'on': 20,\n",
       " 'other': 2,\n",
       " 'or': 13,\n",
       " 'flow,': 1,\n",
       " 'towards': 1,\n",
       " 'start': 2,\n",
       " 'test': 6,\n",
       " 'applications': 1,\n",
       " 'match': 1,\n",
       " 'apostrophes,': 1,\n",
       " 'release': 1,\n",
       " 'army': 1,\n",
       " 'leaving': 1,\n",
       " 'time': 1,\n",
       " 'patterns': 1,\n",
       " 'characters': 2,\n",
       " 'conditions.': 1,\n",
       " 'environment': 2,\n",
       " 'requests,': 1,\n",
       " 'hard': 1,\n",
       " 'not': 1,\n",
       " 'and': 13,\n",
       " 'create': 1,\n",
       " 'more': 3,\n",
       " 'early,': 1,\n",
       " 'occur': 1,\n",
       " 'URLs,': 1,\n",
       " 'because': 1,\n",
       " 'sign': 3,\n",
       " 'demonstrate': 1,\n",
       " 'under': 2,\n",
       " 'errors': 1,\n",
       " 'biased': 1,\n",
       " 'APIs,': 1,\n",
       " 'code.': 1,\n",
       " 'Mockaroo,': 1,\n",
       " 'testing': 1,\n",
       " 'Download': 1,\n",
       " 'it': 11,\n",
       " 'rows': 2,\n",
       " 'before': 1,\n",
       " 'that': 5,\n",
       " 'day.': 1,\n",
       " 'up': 2,\n",
       " 'error': 2,\n",
       " 'environment.': 1,\n",
       " 'production.': 1,\n",
       " \"It's\": 1,\n",
       " 'faster': 2,\n",
       " 'app': 7,\n",
       " 'understand': 1,\n",
       " 'problems': 1,\n",
       " 'play': 1,\n",
       " '$50/year.': 1,\n",
       " 'may': 1,\n",
       " 'which': 1,\n",
       " 'just': 1,\n",
       " 'formats.': 1}"
      ]
     },
     "execution_count": 52,
     "metadata": {},
     "output_type": "execute_result"
    }
   ],
   "source": [
    "# Function to print the frequency count of a file\n",
    "# Frequency Distribution\n",
    "\n",
    "def frequencycount(filename):\n",
    "    d = {}\n",
    "    with open(filename,\"r\") as f:\n",
    "        filename = f.read()\n",
    "        words = filename.split()\n",
    "        unique_words = set(words)\n",
    "        for i in unique_words:\n",
    "            d[i]=filename.count(i)\n",
    "        return d\n",
    "frequencycount(\"random.txt\")"
   ]
  },
  {
   "cell_type": "code",
   "execution_count": null,
   "metadata": {},
   "outputs": [],
   "source": [
    "\n",
    "    "
   ]
  },
  {
   "cell_type": "code",
   "execution_count": 16,
   "metadata": {},
   "outputs": [
    {
     "data": {
      "text/plain": [
       "'jam kdjvn lsnsdg  sljdnlsdng  ddlfgnslng  sldgnsdknww slskdn segkn\\nsek;msdg\\nslkdgnsg\\nselkgen\\nsekgnsenf'"
      ]
     },
     "execution_count": 16,
     "metadata": {},
     "output_type": "execute_result"
    }
   ],
   "source": [
    "filename\n"
   ]
  },
  {
   "cell_type": "code",
   "execution_count": 30,
   "metadata": {},
   "outputs": [],
   "source": [
    "dataname='DataFiles/contacts.txt'"
   ]
  },
  {
   "cell_type": "code",
   "execution_count": 31,
   "metadata": {},
   "outputs": [
    {
     "data": {
      "text/plain": [
       "'DataFiles/contacts.txt'"
      ]
     },
     "execution_count": 31,
     "metadata": {},
     "output_type": "execute_result"
    }
   ],
   "source": [
    "dataname"
   ]
  },
  {
   "cell_type": "code",
   "execution_count": 32,
   "metadata": {},
   "outputs": [
    {
     "data": {
      "text/plain": [
       "'DataFiles/contacts.txt'"
      ]
     },
     "execution_count": 32,
     "metadata": {},
     "output_type": "execute_result"
    }
   ],
   "source": [
    "dataname"
   ]
  },
  {
   "cell_type": "code",
   "execution_count": 42,
   "metadata": {},
   "outputs": [
    {
     "name": "stdout",
     "output_type": "stream",
     "text": [
      "{'name1,9876543210,name_23@gmail.com': 2, 'fsdf,9676686104,name_23@gail.com': 1}\n"
     ]
    }
   ],
   "source": [
    "d={}\n",
    "with open(dataname,'r') as f:\n",
    "    name=f.read()\n",
    "    word=name.split()\n",
    "    unique_words=set(word)\n",
    "    \n",
    "    #print(unique_words)\n",
    "    for i in unique_words:\n",
    "        d[i]=name.count(i)\n",
    "    print(d)"
   ]
  },
  {
   "cell_type": "code",
   "execution_count": 47,
   "metadata": {},
   "outputs": [
    {
     "name": "stdout",
     "output_type": "stream",
     "text": [
      "2\n"
     ]
    }
   ],
   "source": [
    "with open (dataname,'r') as f:\n",
    "    name=f.read()\n",
    "    dam=[]\n",
    "    pluff=name.split()\n",
    "    uinique_words=set(pluff)\n",
    "    #for i in uinique_words:\n",
    "        #dam.append=uinique_words(i)\n",
    "    print(len(uinique_words))"
   ]
  },
  {
   "cell_type": "code",
   "execution_count": null,
   "metadata": {},
   "outputs": [],
   "source": []
  }
 ],
 "metadata": {
  "kernelspec": {
   "display_name": "Python 3",
   "language": "python",
   "name": "python3"
  },
  "language_info": {
   "codemirror_mode": {
    "name": "ipython",
    "version": 3
   },
   "file_extension": ".py",
   "mimetype": "text/x-python",
   "name": "python",
   "nbconvert_exporter": "python",
   "pygments_lexer": "ipython3",
   "version": "3.7.3"
  }
 },
 "nbformat": 4,
 "nbformat_minor": 2
}
