{
 "cells": [
  {
   "cell_type": "code",
   "execution_count": null,
   "metadata": {},
   "outputs": [],
   "source": []
  },
  {
   "cell_type": "code",
   "execution_count": null,
   "metadata": {},
   "outputs": [],
   "source": []
  },
  {
   "cell_type": "code",
   "execution_count": 1,
   "metadata": {},
   "outputs": [
    {
     "name": "stdout",
     "output_type": "stream",
     "text": [
      "fsdf already in contacts\n"
     ]
    }
   ],
   "source": [
    "#function to add contact to conatcts text file\n",
    "from Packages.validators import phoneNoValidator as pnv ,emailValidator as emv\n",
    "\n",
    "def addContact(name,phone,email):\n",
    "    \n",
    "    #store name,phone,email in the contacts file\n",
    "    filename='DataFiles/contacts.txt'\n",
    "    if not checkContactExsists(name):\n",
    "        if pnv(phone) and emv(email):\n",
    "            with open(filename,'a')as f:\n",
    "                line=name + ',' + phone + ',' +email + '\\n'\n",
    "                f.write(line)\n",
    "                print(name,'added to contacts')\n",
    "        print(\"invalid phone or email\")\n",
    "    else:\n",
    "        print(name,'already in contacts')\n",
    "    return\n",
    "import re\n",
    "#function to check if contact is already exsists\n",
    "def checkContactExsists(name):\n",
    "    filename='DataFiles/contacts.txt'\n",
    "    with open (filename,'r') as f:\n",
    "        filedata=f.read()\n",
    "        pattern=name+','\n",
    "        \n",
    "    return re.search(name,filedata)\n",
    "addContact(\"fsdf\",\"9676686104\",\"name_23@gail.com\")"
   ]
  },
  {
   "cell_type": "code",
   "execution_count": 37,
   "metadata": {},
   "outputs": [
    {
     "data": {
      "text/plain": [
       "[['name1', '9876543210', 'name_23@gmail.com\\n'],\n",
       " ['name1', '9876543210', 'name_23@gmail.com\\n'],\n",
       " ['fsdf', '9676686104', 'name_23@gail.com\\n']]"
      ]
     },
     "execution_count": 37,
     "metadata": {},
     "output_type": "execute_result"
    }
   ],
   "source": [
    "filename='DataFiles/contacts.txt'\n",
    "def contactsTolist(filename):\n",
    "    li=[]\n",
    "    with open(filename,'r')as f:\n",
    "        for line in f:\n",
    "            li.append(line.split(','))\n",
    "        return li\n",
    "    \n",
    "contactsTolist(filename)   "
   ]
  },
  {
   "cell_type": "code",
   "execution_count": 45,
   "metadata": {},
   "outputs": [],
   "source": [
    "def listTofile(li):\n",
    "    s=''\n",
    "    for i in li:\n",
    "        s+=','.join(i)\n",
    "    return s"
   ]
  },
  {
   "cell_type": "code",
   "execution_count": 46,
   "metadata": {},
   "outputs": [
    {
     "data": {
      "text/plain": [
       "'name1,9876543210,name_23@gmail.com\\nname1,9876543210,name_23@gmail.com\\nfsdf,9676686104,name_23@gail.com\\n'"
      ]
     },
     "execution_count": 46,
     "metadata": {},
     "output_type": "execute_result"
    }
   ],
   "source": [
    "li=contactsTolist(filename) \n",
    "listTofile(li)"
   ]
  },
  {
   "cell_type": "code",
   "execution_count": null,
   "metadata": {},
   "outputs": [],
   "source": []
  }
 ],
 "metadata": {
  "kernelspec": {
   "display_name": "Python 3",
   "language": "python",
   "name": "python3"
  },
  "language_info": {
   "codemirror_mode": {
    "name": "ipython",
    "version": 3
   },
   "file_extension": ".py",
   "mimetype": "text/x-python",
   "name": "python",
   "nbconvert_exporter": "python",
   "pygments_lexer": "ipython3",
   "version": "3.7.3"
  }
 },
 "nbformat": 4,
 "nbformat_minor": 2
}
