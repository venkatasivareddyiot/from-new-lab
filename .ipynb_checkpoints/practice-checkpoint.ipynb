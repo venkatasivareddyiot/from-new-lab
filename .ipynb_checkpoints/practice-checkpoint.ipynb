{
 "cells": [
  {
   "cell_type": "code",
   "execution_count": 1,
   "metadata": {},
   "outputs": [],
   "source": [
    "d1={}\n"
   ]
  },
  {
   "cell_type": "code",
   "execution_count": 2,
   "metadata": {},
   "outputs": [
    {
     "data": {
      "text/plain": [
       "{}"
      ]
     },
     "execution_count": 2,
     "metadata": {},
     "output_type": "execute_result"
    }
   ],
   "source": [
    "d1"
   ]
  },
  {
   "cell_type": "code",
   "execution_count": 3,
   "metadata": {},
   "outputs": [
    {
     "ename": "NameError",
     "evalue": "name 'value1' is not defined",
     "output_type": "error",
     "traceback": [
      "\u001b[1;31m---------------------------------------------------------------------------\u001b[0m",
      "\u001b[1;31mNameError\u001b[0m                                 Traceback (most recent call last)",
      "\u001b[1;32m<ipython-input-3-25072a48117e>\u001b[0m in \u001b[0;36m<module>\u001b[1;34m\u001b[0m\n\u001b[1;32m----> 1\u001b[1;33m \u001b[0md1\u001b[0m\u001b[1;33m=\u001b[0m\u001b[1;33m{\u001b[0m\u001b[1;34m\"k1\"\u001b[0m\u001b[1;33m,\u001b[0m\u001b[0mvalue1\u001b[0m\u001b[1;33m,\u001b[0m\u001b[1;34m\"k2\"\u001b[0m\u001b[1;33m,\u001b[0m\u001b[0mvakue2\u001b[0m\u001b[1;33m}\u001b[0m\u001b[1;33m\u001b[0m\u001b[1;33m\u001b[0m\u001b[0m\n\u001b[0m",
      "\u001b[1;31mNameError\u001b[0m: name 'value1' is not defined"
     ]
    }
   ],
   "source": [
    "d1={\"k1\",value1,\"k2\",vakue2}"
   ]
  },
  {
   "cell_type": "code",
   "execution_count": null,
   "metadata": {},
   "outputs": [],
   "source": [
    "d1={\"k1\":=value1}"
   ]
  },
  {
   "cell_type": "code",
   "execution_count": null,
   "metadata": {},
   "outputs": [],
   "source": [
    "d1={\"k1\":\"value1\"}"
   ]
  },
  {
   "cell_type": "code",
   "execution_count": null,
   "metadata": {},
   "outputs": [],
   "source": [
    "d1.keys"
   ]
  },
  {
   "cell_type": "code",
   "execution_count": null,
   "metadata": {},
   "outputs": [],
   "source": [
    "d1.keys()"
   ]
  },
  {
   "cell_type": "code",
   "execution_count": null,
   "metadata": {},
   "outputs": [],
   "source": [
    "d1.values()"
   ]
  },
  {
   "cell_type": "code",
   "execution_count": null,
   "metadata": {},
   "outputs": [],
   "source": [
    "d1{\"k2\"}=\"value2\""
   ]
  },
  {
   "cell_type": "code",
   "execution_count": null,
   "metadata": {},
   "outputs": [],
   "source": [
    "d1[\"k2\"]=\"value2\""
   ]
  },
  {
   "cell_type": "code",
   "execution_count": null,
   "metadata": {},
   "outputs": [],
   "source": [
    "d1.items()"
   ]
  },
  {
   "cell_type": "code",
   "execution_count": null,
   "metadata": {},
   "outputs": [],
   "source": [
    "d1[\"k3\"]=\"value3\""
   ]
  },
  {
   "cell_type": "code",
   "execution_count": null,
   "metadata": {},
   "outputs": [],
   "source": [
    "d1.items()"
   ]
  },
  {
   "cell_type": "code",
   "execution_count": null,
   "metadata": {},
   "outputs": [],
   "source": [
    "d1.keys()"
   ]
  },
  {
   "cell_type": "code",
   "execution_count": null,
   "metadata": {},
   "outputs": [],
   "source": [
    "d1.values()"
   ]
  },
  {
   "cell_type": "code",
   "execution_count": null,
   "metadata": {},
   "outputs": [],
   "source": [
    "d1.pop[\"k1\"]"
   ]
  },
  {
   "cell_type": "code",
   "execution_count": null,
   "metadata": {},
   "outputs": [],
   "source": [
    "d1.pop(\"k1\")"
   ]
  },
  {
   "cell_type": "code",
   "execution_count": null,
   "metadata": {},
   "outputs": [],
   "source": [
    "d1.items()"
   ]
  },
  {
   "cell_type": "code",
   "execution_count": null,
   "metadata": {},
   "outputs": [],
   "source": [
    "d1[\"k1\"]=\"value1\""
   ]
  },
  {
   "cell_type": "code",
   "execution_count": null,
   "metadata": {},
   "outputs": [],
   "source": [
    "d1.items()"
   ]
  },
  {
   "cell_type": "code",
   "execution_count": null,
   "metadata": {},
   "outputs": [],
   "source": [
    "#contacts Apllication\n",
    "contacts={}\n",
    "print(contacts)\n",
    "\n",
    "def addContact(name,phone):\n",
    "    if name not in contacts:\n",
    "        contacts[name]=phone\n",
    "        print(\"conatcts added\")\n",
    "    else:\n",
    "        print(\"contacts alredy exsits\")\n",
    "addContact(\"shiva\",\"9581645635\")"
   ]
  },
  {
   "cell_type": "code",
   "execution_count": null,
   "metadata": {},
   "outputs": [],
   "source": [
    "contacts"
   ]
  },
  {
   "cell_type": "code",
   "execution_count": null,
   "metadata": {},
   "outputs": [],
   "source": [
    "addContact(\"mohan\",\"9032263799\")"
   ]
  },
  {
   "cell_type": "code",
   "execution_count": null,
   "metadata": {},
   "outputs": [],
   "source": [
    "contacts"
   ]
  },
  {
   "cell_type": "code",
   "execution_count": null,
   "metadata": {},
   "outputs": [],
   "source": [
    "addContact(\"shiva2\",\"8328563897\")"
   ]
  },
  {
   "cell_type": "code",
   "execution_count": null,
   "metadata": {},
   "outputs": [],
   "source": [
    "contacts"
   ]
  },
  {
   "cell_type": "code",
   "execution_count": null,
   "metadata": {},
   "outputs": [],
   "source": [
    "addContact(\"shiva\",\"9581645635\")"
   ]
  },
  {
   "cell_type": "code",
   "execution_count": null,
   "metadata": {},
   "outputs": [],
   "source": [
    "#search contact\n",
    "def searchContact(name):\n",
    "    if name in contacts:\n",
    "        print(name,\":\",contacts[name])\n",
    "    else:\n",
    "        print(name,\"not in contacts\")\n",
    "\n",
    "        \n",
    "        \n",
    "searchContact(\"shiva\")"
   ]
  },
  {
   "cell_type": "code",
   "execution_count": null,
   "metadata": {},
   "outputs": [],
   "source": [
    "searchContact(\"apssdc\")"
   ]
  },
  {
   "cell_type": "code",
   "execution_count": null,
   "metadata": {},
   "outputs": [],
   "source": [
    "#deleting a conytact\n",
    "def deleteContact(name):\n",
    "    if name in contacts:\n",
    "        contacts.pop(name)\n",
    "        print(\"contact deleted\")\n",
    "    else:\n",
    "        print(\"contact not found\")\n",
    "deleteContact(\"mohan\")"
   ]
  },
  {
   "cell_type": "code",
   "execution_count": null,
   "metadata": {},
   "outputs": [],
   "source": [
    "contacts(1)"
   ]
  },
  {
   "cell_type": "code",
   "execution_count": null,
   "metadata": {},
   "outputs": [],
   "source": [
    "addContact(\"mohan\",\"1234567890\")"
   ]
  },
  {
   "cell_type": "code",
   "execution_count": null,
   "metadata": {},
   "outputs": [],
   "source": [
    "\n"
   ]
  },
  {
   "cell_type": "code",
   "execution_count": null,
   "metadata": {},
   "outputs": [],
   "source": [
    "#display all contacts\n",
    "def displayContacts(n):\n",
    "     n.items()\n",
    "    "
   ]
  },
  {
   "cell_type": "code",
   "execution_count": null,
   "metadata": {},
   "outputs": [],
   "source": [
    "displayContacts(contacts)"
   ]
  },
  {
   "cell_type": "code",
   "execution_count": null,
   "metadata": {},
   "outputs": [],
   "source": [
    "contacts.items()"
   ]
  },
  {
   "cell_type": "code",
   "execution_count": null,
   "metadata": {},
   "outputs": [],
   "source": [
    "def editContact(name,value):\n",
    "    if name in contacts:\n",
    "        contacts[name]=value\n",
    "        print(\"conatct edited\")\n",
    "    else:\n",
    "        print(\"contact not found\")"
   ]
  },
  {
   "cell_type": "code",
   "execution_count": null,
   "metadata": {},
   "outputs": [],
   "source": [
    "editContact(\"mohan\",\"123454322222221\")"
   ]
  },
  {
   "cell_type": "code",
   "execution_count": null,
   "metadata": {},
   "outputs": [],
   "source": [
    "contacts"
   ]
  },
  {
   "cell_type": "code",
   "execution_count": null,
   "metadata": {},
   "outputs": [],
   "source": [
    "def importContacts(newContacts):\n",
    "    contacts.update(newContacts)\n",
    "    print(len(newContacts.keys()),\"contacts Added sucessefully\")\n",
    "    return\n",
    "\n",
    "\n",
    "\n",
    "newContacts={\"name2\":9581645635,\"name3\":8328653897}\n",
    "\n",
    "importContacts(newContacts)"
   ]
  },
  {
   "cell_type": "code",
   "execution_count": null,
   "metadata": {},
   "outputs": [],
   "source": [
    "contacts"
   ]
  },
  {
   "cell_type": "code",
   "execution_count": 9,
   "metadata": {},
   "outputs": [
    {
     "data": {
      "text/plain": [
       "False"
      ]
     },
     "execution_count": 9,
     "metadata": {},
     "output_type": "execute_result"
    }
   ],
   "source": [
    "import re \n",
    "def phoneNoValidator(phone):\n",
    "    pattern='^[6-9][0-9]{9}$|[0][6-9][0-9]{9}$|[+][9][1][6-9][0-9]{9}$'\n",
    "    if re.match(pattern,str(phone)):\n",
    "        return True\n",
    "    else:\n",
    "        return False\n",
    "phoneNoValidator(958645635)"
   ]
  },
  {
   "cell_type": "code",
   "execution_count": 10,
   "metadata": {},
   "outputs": [],
   "source": [
    "\n",
    "def addContactinfo(name,phone):\n",
    "    if name in myphonebook:\n",
    "        print(name,\"\",\"no is already in phonebook\")\n",
    "    elif name not in myphonebook:\n",
    "        if phoneNoValidator(phone):\n",
    "            myphonebook[name]=phone\n",
    "            print(name,\"\",\"phone no added sucessfully\")\n",
    "        else:\n",
    "            print(phone,\"is invalid\")\n",
    "    \n"
   ]
  },
  {
   "cell_type": "code",
   "execution_count": 11,
   "metadata": {},
   "outputs": [
    {
     "name": "stdout",
     "output_type": "stream",
     "text": [
      "958145635 is invalid\n"
     ]
    }
   ],
   "source": [
    "addContactinfo(\"shia\",\"958145635\")"
   ]
  },
  {
   "cell_type": "code",
   "execution_count": 12,
   "metadata": {},
   "outputs": [],
   "source": [
    "myphonebook={}"
   ]
  },
  {
   "cell_type": "code",
   "execution_count": 14,
   "metadata": {},
   "outputs": [],
   "source": [
    "import re\n",
    "def emailValidator(email):\n",
    "    pattern='[0-9a-z][0-9a-z_.]{4,20}[0-9a-z][@][0-9a-z]{4,13}[.][a-z]{2,5}'\n",
    "    if re.match(pattern,str(email)):\n",
    "        print(email,\"\",\"is valid\")\n",
    "        return True\n",
    "    else:\n",
    "        print(email,\"\",\"inValid\")\n",
    "        return False"
   ]
  },
  {
   "cell_type": "code",
   "execution_count": 15,
   "metadata": {},
   "outputs": [
    {
     "name": "stdout",
     "output_type": "stream",
     "text": [
      "tupukkabckjbdvkjsdbvkSJDFKJef1231  inValid\n"
     ]
    },
    {
     "data": {
      "text/plain": [
       "False"
      ]
     },
     "execution_count": 15,
     "metadata": {},
     "output_type": "execute_result"
    }
   ],
   "source": [
    "emailValidator(\"tupukkabckjbdvkjsdbvkSJDFKJef1231\")"
   ]
  },
  {
   "cell_type": "code",
   "execution_count": 16,
   "metadata": {},
   "outputs": [],
   "source": [
    "#adding contacts in format of name email and phon no\n",
    "myphonebookupdated={}\n"
   ]
  },
  {
   "cell_type": "code",
   "execution_count": 29,
   "metadata": {},
   "outputs": [],
   "source": [
    "def addContactupdate(name,phone,mail):\n",
    "    if name in myphonebookupdated:\n",
    "        print(\"contact already added\")\n",
    "    elif name not in myphonebookupdated:\n",
    "        if not phoneNoValidator(phone):\n",
    "            print(\"phone is Invalid\")\n",
    "            return\n",
    "        if not emailValidator(mail):\n",
    "            print(\"email is Invalid\")\n",
    "            return\n",
    "        newcontact=[]\n",
    "        newcontact.append(phone)\n",
    "        newcontact.append(mail)\n",
    "        myphonebookupdated[name]=newcontact\n",
    "        return\n",
    "        \n",
    "    "
   ]
  },
  {
   "cell_type": "code",
   "execution_count": 30,
   "metadata": {},
   "outputs": [
    {
     "name": "stdout",
     "output_type": "stream",
     "text": [
      "contact already added\n"
     ]
    }
   ],
   "source": [
    "addContactupdate(\"shiva\",\"+919581645365\",\"venkatasivareddy444@gmail.com\")"
   ]
  },
  {
   "cell_type": "code",
   "execution_count": 19,
   "metadata": {},
   "outputs": [
    {
     "data": {
      "text/plain": [
       "{'shiva': ['+919581645365', 'venkatasivareddy444@gmail.com']}"
      ]
     },
     "execution_count": 19,
     "metadata": {},
     "output_type": "execute_result"
    }
   ],
   "source": [
    "myphonebookupdated"
   ]
  },
  {
   "cell_type": "code",
   "execution_count": 20,
   "metadata": {},
   "outputs": [
    {
     "name": "stdout",
     "output_type": "stream",
     "text": [
      "contact already added\n"
     ]
    }
   ],
   "source": [
    "addContactupdate(\"shiva\",\"+91958645365\",\"venkatasivaredy444@gmail.com\")"
   ]
  },
  {
   "cell_type": "code",
   "execution_count": 21,
   "metadata": {},
   "outputs": [],
   "source": [
    "#searching contact info\n",
    "def searchContact(name):\n",
    "    if name in myphonebookupdated:\n",
    "        print(name)\n",
    "        print(\"phoneno:\",myphonebookupdated[name][0])\n",
    "        print(\"email\",myphonebookupdated[name][1])\n",
    "    else:\n",
    "        print(name,\"not in contact list\")"
   ]
  },
  {
   "cell_type": "code",
   "execution_count": 22,
   "metadata": {},
   "outputs": [
    {
     "name": "stdout",
     "output_type": "stream",
     "text": [
      "shiv not in contact list\n"
     ]
    }
   ],
   "source": [
    "searchContact(\"shiv\")"
   ]
  },
  {
   "cell_type": "code",
   "execution_count": 23,
   "metadata": {},
   "outputs": [
    {
     "name": "stdout",
     "output_type": "stream",
     "text": [
      "shiva \n",
      " Phone : +919581645365 \n",
      " Email venkatasivareddy444@gmail.com\n"
     ]
    }
   ],
   "source": [
    "#function to list all contacts\n",
    "def listAllConatcts():\n",
    "    for contact,info in myphonebookupdated.items():\n",
    "        print(contact,\"\\n\",\"Phone :\",info[0],\"\\n\",\"Email\",info[1])\n",
    "    return\n",
    "listAllConatcts()"
   ]
  },
  {
   "cell_type": "code",
   "execution_count": 47,
   "metadata": {},
   "outputs": [],
   "source": [
    "def editContact(name,phone,mail):\n",
    "    if name in myphonebookupdated:\n",
    "        if not phoneNoValidator(phone):\n",
    "            print(\"phone is Invalid\")\n",
    "            return\n",
    "        if not emailValidator(mail):\n",
    "            print(\"email is Invalid\")\n",
    "            return\n",
    "        \n",
    "        li=myphonebookupdated[name]\n",
    "        li.clear()\n",
    "        li.append(phone)\n",
    "        li.append(mail)\n",
    "        myphonebookupdated[name]=li\n",
    "        return\n",
    "    else:\n",
    "        print(\"contact not found\")"
   ]
  },
  {
   "cell_type": "code",
   "execution_count": 48,
   "metadata": {},
   "outputs": [
    {
     "data": {
      "text/plain": [
       "{'shiva': ['9550324094', 'sivavenkat777@gmail.com']}"
      ]
     },
     "execution_count": 48,
     "metadata": {},
     "output_type": "execute_result"
    }
   ],
   "source": [
    "myphonebookupdated"
   ]
  },
  {
   "cell_type": "code",
   "execution_count": 49,
   "metadata": {},
   "outputs": [
    {
     "name": "stdout",
     "output_type": "stream",
     "text": [
      "contact not found\n"
     ]
    }
   ],
   "source": [
    "editContact(\"shiv\",\"9550324094\",\"sivavenkat777@gmail.com\")"
   ]
  },
  {
   "cell_type": "code",
   "execution_count": 66,
   "metadata": {},
   "outputs": [
    {
     "name": "stdout",
     "output_type": "stream",
     "text": [
      "TadiVenkataShivaReddy already in phonebook\n"
     ]
    }
   ],
   "source": [
    "#contacts Application done\n",
    "def checkContactExsists(name):\n",
    "    filename='DataFiles/phonebook.txt'\n",
    "    with open (filename,'r') as f:\n",
    "        filedata=f.read()\n",
    "        pattern=name+','\n",
    "    return re.search(name,filedata)\n",
    "from Packages.validators import emailValidator as em \n",
    "from Packages.validators import phoneNoValidator as ph\n",
    "def addPhoneno(name,phone,email):\n",
    "    filename='DataFiles/phonebook.txt'\n",
    "    if not checkContactExsists(name):\n",
    "        if ph(phone) and em(email):\n",
    "            with open(filename,'a')as f:\n",
    "                line=name + ',' + phone + ',' +email + '\\n'\n",
    "                f.write(line)\n",
    "                print(name,'added to contacts')\n",
    "        else:\n",
    "            print(\"invalid phone or email\")\n",
    "    else:\n",
    "        print(name,'already in phonebook')\n",
    "        return\n",
    "addPhoneno(\"TadiVenkataShivaReddy\",\"07675816446\",\"venkatasivareddy.t@asppdc.in\")"
   ]
  },
  {
   "cell_type": "code",
   "execution_count": 99,
   "metadata": {},
   "outputs": [
    {
     "name": "stdout",
     "output_type": "stream",
     "text": [
      "shivavenkat added to contacts\n"
     ]
    }
   ],
   "source": [
    "addPhoneno(\"shivavenkat\",\"07675816446\",\"venkatasivareddy.t@asppdc.in\")"
   ]
  },
  {
   "cell_type": "code",
   "execution_count": 69,
   "metadata": {},
   "outputs": [
    {
     "data": {
      "text/plain": [
       "[['shiva', '+919581645635', 'venkatasivareddy444@gmail.com\\n'],\n",
       " ['shivaVenkat', '+918328673897', 'sivavenkat777@gmail.com\\n'],\n",
       " ['TadiVenkataShivaReddy', '07675816446', 'venkatasivareddy.t@asppdc.in\\n']]"
      ]
     },
     "execution_count": 69,
     "metadata": {},
     "output_type": "execute_result"
    }
   ],
   "source": [
    "filename='DataFiles/phonebook.txt'\n",
    "def contactsTolist(filename):\n",
    "    li=[]\n",
    "    with open(filename,'r')as f:\n",
    "        for line in f:\n",
    "            li.append(line.split(','))\n",
    "        return li\n",
    "\n",
    "contactsTolist(filename)"
   ]
  },
  {
   "cell_type": "code",
   "execution_count": 70,
   "metadata": {},
   "outputs": [],
   "source": [
    "s=contactsTolist(filename)"
   ]
  },
  {
   "cell_type": "code",
   "execution_count": 71,
   "metadata": {},
   "outputs": [
    {
     "data": {
      "text/plain": [
       "[['shiva', '+919581645635', 'venkatasivareddy444@gmail.com\\n'],\n",
       " ['shivaVenkat', '+918328673897', 'sivavenkat777@gmail.com\\n'],\n",
       " ['TadiVenkataShivaReddy', '07675816446', 'venkatasivareddy.t@asppdc.in\\n']]"
      ]
     },
     "execution_count": 71,
     "metadata": {},
     "output_type": "execute_result"
    }
   ],
   "source": [
    "s"
   ]
  },
  {
   "cell_type": "code",
   "execution_count": 72,
   "metadata": {},
   "outputs": [
    {
     "data": {
      "text/plain": [
       "['shivaVenkat', '+918328673897', 'sivavenkat777@gmail.com\\n']"
      ]
     },
     "execution_count": 72,
     "metadata": {},
     "output_type": "execute_result"
    }
   ],
   "source": [
    "s[1]"
   ]
  },
  {
   "cell_type": "code",
   "execution_count": 73,
   "metadata": {},
   "outputs": [],
   "source": [
    "l1=s[1]"
   ]
  },
  {
   "cell_type": "code",
   "execution_count": 74,
   "metadata": {},
   "outputs": [
    {
     "data": {
      "text/plain": [
       "['shivaVenkat', '+918328673897', 'sivavenkat777@gmail.com\\n']"
      ]
     },
     "execution_count": 74,
     "metadata": {},
     "output_type": "execute_result"
    }
   ],
   "source": [
    "l1"
   ]
  },
  {
   "cell_type": "code",
   "execution_count": 80,
   "metadata": {},
   "outputs": [
    {
     "data": {
      "text/plain": [
       "'shiva'"
      ]
     },
     "execution_count": 80,
     "metadata": {},
     "output_type": "execute_result"
    }
   ],
   "source": [
    "l1.pop(0)"
   ]
  },
  {
   "cell_type": "code",
   "execution_count": 81,
   "metadata": {},
   "outputs": [
    {
     "data": {
      "text/plain": [
       "['shiva', '+918328673897', 'sivavenkat777@gmail.com\\n']"
      ]
     },
     "execution_count": 81,
     "metadata": {},
     "output_type": "execute_result"
    }
   ],
   "source": [
    "#l1.insert(0,\"shiva\")\n",
    "l1"
   ]
  },
  {
   "cell_type": "code",
   "execution_count": 83,
   "metadata": {},
   "outputs": [
    {
     "data": {
      "text/plain": [
       "[['shiva', '+919581645635', 'venkatasivareddy444@gmail.com\\n'],\n",
       " ['shivaVenkat', '+918328673897', 'sivavenkat777@gmail.com\\n'],\n",
       " ['TadiVenkataShivaReddy', '07675816446', 'venkatasivareddy.t@asppdc.in\\n']]"
      ]
     },
     "execution_count": 83,
     "metadata": {},
     "output_type": "execute_result"
    }
   ],
   "source": [
    "def CSVtolist(filename):\n",
    "    with open(filename,'r') as f:\n",
    "        f1=[]\n",
    "        for line in f:\n",
    "            f1.append(line.split(sep=','))\n",
    "    return f1\n",
    "CSVtolist(filename)"
   ]
  },
  {
   "cell_type": "code",
   "execution_count": 88,
   "metadata": {},
   "outputs": [],
   "source": [
    "li=[]"
   ]
  },
  {
   "cell_type": "code",
   "execution_count": 89,
   "metadata": {},
   "outputs": [
    {
     "data": {
      "text/plain": [
       "''"
      ]
     },
     "execution_count": 89,
     "metadata": {},
     "output_type": "execute_result"
    }
   ],
   "source": [
    "def listToFile(li):\n",
    "    s=''\n",
    "    for i in li:\n",
    "        s+=','.join(i)\n",
    "    return s\n",
    "listToFile(li)"
   ]
  },
  {
   "cell_type": "code",
   "execution_count": 91,
   "metadata": {},
   "outputs": [
    {
     "data": {
      "text/plain": [
       "0"
      ]
     },
     "execution_count": 91,
     "metadata": {},
     "output_type": "execute_result"
    }
   ],
   "source": [
    "def searchwithretrun(filename,name):\n",
    "    f1=CSVtolist(filename)\n",
    "    flag=0\n",
    "    for i in range (len(f1)):\n",
    "        if name==f1[i][0]:\n",
    "            flag=1\n",
    "            return i\n",
    "    if flag==0:\n",
    "        return -1\n",
    "    \n",
    "            \n",
    "searchwithretrun(filename,\"shiva\")"
   ]
  },
  {
   "cell_type": "code",
   "execution_count": 92,
   "metadata": {},
   "outputs": [],
   "source": [
    "def deletephoneno(filename,name):\n",
    "    i=searchwithretrun(filename,name)\n",
    "    if i!=-1:\n",
    "        f1=CSVtolist(filename)\n",
    "        f1.pop(i)\n",
    "        s=listToFile(f1)\n",
    "        with open(filename,'w')as f:\n",
    "            f.write(s)\n",
    "    else:\n",
    "        print(\"contact not found to remove\")\n",
    "\n",
    "deletephoneno(filename,\"shiva\")\n",
    "        \n",
    "    "
   ]
  },
  {
   "cell_type": "code",
   "execution_count": 101,
   "metadata": {},
   "outputs": [
    {
     "name": "stdout",
     "output_type": "stream",
     "text": [
      "done updating\n"
     ]
    }
   ],
   "source": [
    "def updatephoneno(filename,name,updatedname):\n",
    "    i=searchwithretrun(filename,name)\n",
    "    if i!=-1:\n",
    "        f1=CSVtolist(filename)\n",
    "        f1[i].pop(0)\n",
    "        f1[i].insert(0,updatedname)\n",
    "        s=listToFile(f1)\n",
    "        with open(filename,'w')as f:\n",
    "            f.write(s)\n",
    "        print(\"done updating\")\n",
    "    else:\n",
    "        print(\"contact not found \")\n",
    "\n",
    "updatephoneno(filename,\"shiva\",\"Shiva\")  "
   ]
  },
  {
   "cell_type": "code",
   "execution_count": 113,
   "metadata": {},
   "outputs": [
    {
     "name": "stdout",
     "output_type": "stream",
     "text": [
      "phone no updated\n"
     ]
    }
   ],
   "source": [
    "#to update name 0\n",
    "#to updtae number 1\n",
    "#to update email 2\n",
    "def updatecontact(filename,name,f,value):\n",
    "    if(searchwithretrun(filename,name)>=0):\n",
    "        i=searchwithretrun(filename,name)\n",
    "        if((int(f)==0)):\n",
    "            f1=CSVtolist(filename)\n",
    "            f1[i].pop(0)\n",
    "            f1[i].insert(0,value)\n",
    "            s=listToFile(f1)\n",
    "            with open(filename,'w')as f:\n",
    "                f.write(s)\n",
    "                print(\"name updated\")\n",
    "        \n",
    "        elif((int(f))==1):\n",
    "            f1=CSVtolist(filename)\n",
    "            f1[i].pop(1)\n",
    "            f1[i].insert(1,value)\n",
    "            s=listToFile(f1)\n",
    "            with open(filename,'w')as f:\n",
    "                f.write(s)\n",
    "                print(\"phone no updated\")\n",
    "        elif((int(f))==2):\n",
    "            f1=CSVtolist(filename)\n",
    "            f1[i].pop(2)\n",
    "            f1[i].insert(2,value)\n",
    "            s=listToFile(f1)\n",
    "            with open(filename,'w')as f:\n",
    "                f.write(s)\n",
    "                print(\"email updated\")\n",
    "    else:\n",
    "        print(\"contact not found\")\n",
    "        \n",
    "        \n",
    "updatecontact(filename,\"ShivaVenkat\",\"1\",\"9550324094\")"
   ]
  },
  {
   "cell_type": "code",
   "execution_count": 108,
   "metadata": {},
   "outputs": [
    {
     "data": {
      "text/plain": [
       "2"
      ]
     },
     "execution_count": 108,
     "metadata": {},
     "output_type": "execute_result"
    }
   ],
   "source": [
    "searchwithretrun(filename,\"shivaVenkat\")"
   ]
  },
  {
   "cell_type": "code",
   "execution_count": null,
   "metadata": {},
   "outputs": [],
   "source": []
  }
 ],
 "metadata": {
  "kernelspec": {
   "display_name": "Python 3",
   "language": "python",
   "name": "python3"
  },
  "language_info": {
   "codemirror_mode": {
    "name": "ipython",
    "version": 3
   },
   "file_extension": ".py",
   "mimetype": "text/x-python",
   "name": "python",
   "nbconvert_exporter": "python",
   "pygments_lexer": "ipython3",
   "version": "3.7.3"
  }
 },
 "nbformat": 4,
 "nbformat_minor": 2
}
