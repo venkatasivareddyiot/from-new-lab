{
 "cells": [
  {
   "cell_type": "markdown",
   "metadata": {},
   "source": [
    "## Basics of Regualr Expressions\n",
    "\n",
    "- Pattern Matching\n",
    "- Symbolic Notation of a pattern\n",
    "    - Pattern :format which repeats\n",
    "    - Pattern(RE)-The Set of All strings match that pattern\n",
    "- [0-9] -> Any digit in this \n",
    "- [a-z] -> Any lower Case alphabet\n",
    "- [2468]->All single digit multiples of 2\n",
    "   [8642]\n",
    "   [6824]\n",
    "- ^[0-9]{1}$-->only single digit numbers\n",
    "- ^[0-9]{3}$-->only 3 digit numbers\n",
    "- [0-9]*0$ ->All multiples of 10\n",
    "- multiples of 5  ^[1-9]*[05]   or ^[1-9][0-9]*[05]  not working dude  ^([1-9][0-9]*[05]$|^[5])$ working one\n",
    "- \n",
    "- all 10 digit no's ^[1-9][0-9]{10}\n",
    "- \n",
    "-Searching for a word (print) [p][r][i][n][t] both will work for sure\n",
    "-validating mobile no 9876     ^[6-9][0-9]{9}$     ^[6-9][0-9]{9}$|([0][6-9][0-9]{9})$  for no with 0^[6-9][0-9]{9}$|([0][6-9][0-9]{9})$|([+][9][1][6-9][0-9]{9})$\n",
    "\n",
    "-  ^[6-9][0-9]{9}$|([0][6-9][0-9]{9})$|([+][9][1][6-9][0-9]{9})$ for +91\n",
    "-\n",
    "\n",
    "\n",
    "- email validation (username@domain.extension  \n",
    "        - user name\n",
    "            - Length of username :[6,15]\n",
    "            - No Special Characters other than _.\n",
    "            - Should not begin and end with _.\n",
    "            - Character set :all digits and lower case alphabet\n",
    "        - domain\n",
    "            -Length of Domain:[3,15]\n",
    "            - Character set :all digits and Lower case alphabet\n",
    "            -No Special Characters \n",
    "            -No No\n",
    "        - Extension\n",
    "            -Length of extension:[2,4]\n",
    "            -No Special CHaracter\n",
    "            -character set :alphabet\n",
    "            \n",
    "        -[0-9a-z][0-9a-z_.]{4,13}[0-9a-z][@][a-z0-9]{3,18}[.][a-z]{2,4}\n",
    "        \n",
    "       - Any string of length 5 and start with character a and end with z \n",
    "       -- ^[a]...[z]$\n",
    "       -- ^[a].*[z]$ --> any string of any length starting with 'a' and ending with 'z'\n",
    "            \n",
    "       \n",
    "        "
   ]
  },
  {
   "cell_type": "code",
   "execution_count": 9,
   "metadata": {},
   "outputs": [
    {
     "name": "stdout",
     "output_type": "stream",
     "text": [
      "Valid Number\n"
     ]
    }
   ],
   "source": [
    "#function to validate a phone no in python\n",
    "import re\n",
    "def phoneNumberValidator(number):\n",
    "    pattern ='^[6-9][0-9]{9}$|([0][6-9][0-9]{9})$'\n",
    "    if re.match(pattern,str(number)):\n",
    "        print(\"Valid Number\")\n",
    "    else:\n",
    "        print(\"Invalid Number\")\n",
    "    return\n",
    "phoneNumberValidator(9581645635)"
   ]
  },
  {
   "cell_type": "code",
   "execution_count": null,
   "metadata": {},
   "outputs": [],
   "source": []
  }
 ],
 "metadata": {
  "kernelspec": {
   "display_name": "Python 3",
   "language": "python",
   "name": "python3"
  },
  "language_info": {
   "codemirror_mode": {
    "name": "ipython",
    "version": 3
   },
   "file_extension": ".py",
   "mimetype": "text/x-python",
   "name": "python",
   "nbconvert_exporter": "python",
   "pygments_lexer": "ipython3",
   "version": "3.7.3"
  }
 },
 "nbformat": 4,
 "nbformat_minor": 2
}
