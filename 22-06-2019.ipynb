{
 "cells": [
  {
   "cell_type": "markdown",
   "metadata": {},
   "source": [
    "\n",
    "### Date :22 June 2019\n",
    "### Day Objectives\n",
    "- File Hnadling \n",
    "  - Basic File Data Processing\n",
    "   - Accessing and Modifying File Data \n",
    "- Character Count\n",
    "- Line Count\n",
    "- File Size\n",
    "- Word Count\n",
    "- Unique Word Count\n"
   ]
  },
  {
   "cell_type": "code",
   "execution_count": 34,
   "metadata": {},
   "outputs": [
    {
     "name": "stdout",
     "output_type": "stream",
     "text": [
      "jam\n"
     ]
    }
   ],
   "source": [
    "#Read a file -files should exsists\n",
    "#Write into a file-file can exixst (append mode) or new file (write mode) can be created:\n",
    "\n",
    "def readFile(filename):\n",
    "    with open(filename,'r')  as f:\n",
    "        filedata=f.read()\n",
    "        return filedata\n",
    "        \n",
    "\n",
    "        \n",
    "filename='DataFiles/Ayyappa.txt'\n",
    "print(readFile(filename))\n",
    "        \n"
   ]
  },
  {
   "cell_type": "code",
   "execution_count": 35,
   "metadata": {},
   "outputs": [
    {
     "name": "stdout",
     "output_type": "stream",
     "text": [
      "19\n"
     ]
    }
   ],
   "source": [
    "l=filename='DataFiles/Ayyappa.txt'\n",
    "count=0\n",
    "for i in l:\n",
    "    if i.isalpha():\n",
    "        count+=1\n",
    "print(count)"
   ]
  },
  {
   "cell_type": "code",
   "execution_count": 32,
   "metadata": {},
   "outputs": [
    {
     "name": "stdout",
     "output_type": "stream",
     "text": [
      "jam\n"
     ]
    }
   ],
   "source": [
    "print(readFile(filename))\n",
    "        "
   ]
  },
  {
   "cell_type": "code",
   "execution_count": 29,
   "metadata": {},
   "outputs": [
    {
     "data": {
      "text/plain": [
       "1"
      ]
     },
     "execution_count": 29,
     "metadata": {},
     "output_type": "execute_result"
    }
   ],
   "source": [
    "def readnolist(filename):\n",
    "    count=0\n",
    "    with open (filename,'r') as f:\n",
    "        for i in f:\n",
    "            count+=1\n",
    "        return count\n",
    "readnolist(filename)"
   ]
  },
  {
   "cell_type": "code",
   "execution_count": 44,
   "metadata": {},
   "outputs": [
    {
     "name": "stdout",
     "output_type": "stream",
     "text": [
      "12\n"
     ]
    }
   ],
   "source": [
    "def wordcount(filename):\n",
    "    l=readFile(filename)\n",
    "    a=l.split()\n",
    "    print(len(a))\n",
    "wordcount(filename)"
   ]
  },
  {
   "cell_type": "code",
   "execution_count": 45,
   "metadata": {},
   "outputs": [
    {
     "data": {
      "text/plain": [
       "100"
      ]
     },
     "execution_count": 45,
     "metadata": {},
     "output_type": "execute_result"
    }
   ],
   "source": [
    "def Uniqueletters(filename):\n",
    "    count=0\n",
    "    l=readFile(filename)\n",
    "    j=0\n",
    "    for i in l:\n",
    "        if i!=l[j]:\n",
    "            count+=1\n",
    "            j=+1\n",
    "        else:\n",
    "            j=+1\n",
    "    return(count)\n",
    "Uniqueletters(filename)\n",
    "        \n",
    "            \n",
    "        \n",
    "    "
   ]
  },
  {
   "cell_type": "code",
   "execution_count": 52,
   "metadata": {},
   "outputs": [
    {
     "name": "stdout",
     "output_type": "stream",
     "text": [
      "102 bytes\n"
     ]
    }
   ],
   "source": [
    "import os\n",
    "def fileSize(filename):\n",
    "\n",
    "    a=os.path.getsize(filename)\n",
    "    if(a<1024):\n",
    "        print(a,\"bytes\")\n",
    "    elif(a>1024):\n",
    "        print(a/1024,\"kb\")\n",
    "    elif(a>1024000):\n",
    "        print(a/1024000,\"mb\")\n",
    "    \n",
    "    \n",
    "\n",
    "fileSize(filename)\n",
    "   "
   ]
  },
  {
   "cell_type": "code",
   "execution_count": 59,
   "metadata": {},
   "outputs": [
    {
     "data": {
      "text/plain": [
       "12"
      ]
     },
     "execution_count": 59,
     "metadata": {},
     "output_type": "execute_result"
    }
   ],
   "source": [
    "def uniqueword_count(filename):\n",
    "    with open(filename,'r') as f:\n",
    "        filedata = f.read()\n",
    "        words=filedata.split()\n",
    "        unique_words=set(words)\n",
    "        return len(list(unique_words))    \n",
    "\n",
    "uniqueword_count(filename)"
   ]
  },
  {
   "cell_type": "code",
   "execution_count": null,
   "metadata": {},
   "outputs": [],
   "source": []
  },
  {
   "cell_type": "code",
   "execution_count": null,
   "metadata": {},
   "outputs": [],
   "source": []
  }
 ],
 "metadata": {
  "kernelspec": {
   "display_name": "Python 3",
   "language": "python",
   "name": "python3"
  },
  "language_info": {
   "codemirror_mode": {
    "name": "ipython",
    "version": 3
   },
   "file_extension": ".py",
   "mimetype": "text/x-python",
   "name": "python",
   "nbconvert_exporter": "python",
   "pygments_lexer": "ipython3",
   "version": "3.7.3"
  }
 },
 "nbformat": 4,
 "nbformat_minor": 2
}
