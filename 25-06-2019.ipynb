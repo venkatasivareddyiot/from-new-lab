{
 "cells": [
  {
   "cell_type": "markdown",
   "metadata": {},
   "source": [
    "-- That second sum answer\n"
   ]
  },
  {
   "cell_type": "code",
   "execution_count": 17,
   "metadata": {},
   "outputs": [
    {
     "name": "stdout",
     "output_type": "stream",
     "text": [
      "sdfaesa12344dfgreg13996\n"
     ]
    },
    {
     "data": {
      "text/plain": [
       "['1', '2', '3', '4', '9', '6']"
      ]
     },
     "execution_count": 17,
     "metadata": {},
     "output_type": "execute_result"
    }
   ],
   "source": [
    "def uniquelist(allno):\n",
    "    unique=[]\n",
    "    for n in allno:\n",
    "        if n not in unique:\n",
    "            unique.append(n)\n",
    "    return unique\n",
    "    \n",
    "def numberlist(s):\n",
    "    allno=[]\n",
    "    for i in s:\n",
    "        if i.isdigit():\n",
    "            allno.append(i)\n",
    "    return allno\n",
    "s=input()\n",
    "numberlist(s)\n",
    "uniquelist(a)"
   ]
  },
  {
   "cell_type": "code",
   "execution_count": 65,
   "metadata": {},
   "outputs": [
    {
     "name": "stdout",
     "output_type": "stream",
     "text": [
      "s;dorgd1234ejqrgn413526452\n",
      "0232321000"
     ]
    }
   ],
   "source": [
    "string=input()\n",
    "for digit in range(0,10):\n",
    "    print(string.count(str(digit)),end=\"\")"
   ]
  },
  {
   "cell_type": "code",
   "execution_count": 20,
   "metadata": {},
   "outputs": [
    {
     "name": "stdout",
     "output_type": "stream",
     "text": [
      "sdfaesa12344dfgreg13996\n",
      "0 2 1 2 2 0 1 0 0 2 "
     ]
    }
   ],
   "source": [
    "#my solution that i understood:\n",
    "def digitFrquency(s):\n",
    "    a=numberlist(s)\n",
    "    b=uniquelist(a)\n",
    "    for i in range(0,10):\n",
    "        if str(i) not in b:\n",
    "            print(0,end=' ')\n",
    "        else:\n",
    "            count=a.count(str(i))\n",
    "            print(count,end=' ')\n",
    "s=input()\n",
    "digitFrquency(s)"
   ]
  },
  {
   "cell_type": "code",
   "execution_count": 21,
   "metadata": {},
   "outputs": [],
   "source": [
    "# all file concepts for gr=enrating data into files breating average of marks and etc';;\n",
    "# for generating random data into a file\n",
    "#Function to generate marks data for n students\n",
    "from random import randint\n",
    "def generateMarks(n,lb,ub):\n",
    "    with open('DataFiles/randomMarks.txt','w') as f:\n",
    "        for i in range(0,n):\n",
    "            r=randint(lb,ub)\n",
    "            f.write(str(r)+'\\n')\n",
    "    return\n",
    " \n",
    "generateMarks(100,1,75)"
   ]
  },
  {
   "cell_type": "code",
   "execution_count": 22,
   "metadata": {},
   "outputs": [],
   "source": [
    "filename='Datafiles/randomMarks.txt'"
   ]
  },
  {
   "cell_type": "code",
   "execution_count": 40,
   "metadata": {},
   "outputs": [],
   "source": [
    "#read data from file and store in a list\n",
    "def markslist(filename):\n",
    "    l=[]\n",
    "    with open(filename,'r') as f: #opening file and reading data and storing it into a varible s\n",
    "        s=f.read() #Reading Data from the file\n",
    "        d=s.split('\\n') #data spliting into list with removing \\n(new line)\n",
    "        for i in d:\n",
    "            l.append(int(i)) # we want interger data so we are converting it into that\n",
    "        return l \n",
    "    "
   ]
  },
  {
   "cell_type": "code",
   "execution_count": 41,
   "metadata": {},
   "outputs": [],
   "source": [
    "#class Average\n",
    "def classAverage(filename):\n",
    "    m=markslist(filename)\n",
    "    cA=sum(m)/len(m)\n",
    "    return cA\n"
   ]
  },
  {
   "cell_type": "code",
   "execution_count": 42,
   "metadata": {},
   "outputs": [
    {
     "name": "stdout",
     "output_type": "stream",
     "text": [
      "42.19\n"
     ]
    }
   ],
   "source": [
    "print(classAverage('Datafiles/randomMarks.txt'))"
   ]
  },
  {
   "cell_type": "code",
   "execution_count": 44,
   "metadata": {},
   "outputs": [
    {
     "name": "stdout",
     "output_type": "stream",
     "text": [
      "75\n"
     ]
    }
   ],
   "source": [
    "# print class 1st mark\n",
    "def firstMark(filename):\n",
    "    first=markslist(filename)\n",
    "    return max(first)\n",
    "print(firstMark(filename))"
   ]
  },
  {
   "cell_type": "code",
   "execution_count": 47,
   "metadata": {},
   "outputs": [],
   "source": [
    "# pass percentage of students:\n",
    "def passPercentage(filename):\n",
    "    m=markslist(filename)\n",
    "    noofpassed=[]\n",
    "    for i in m:\n",
    "        if i>40:\n",
    "            noofpassed.append(i)\n",
    "    passpercent=(len(noofpassed)/len(m))*100\n",
    "    return passpercent\n",
    "            "
   ]
  },
  {
   "cell_type": "code",
   "execution_count": 48,
   "metadata": {},
   "outputs": [
    {
     "data": {
      "text/plain": [
       "54.0"
      ]
     },
     "execution_count": 48,
     "metadata": {},
     "output_type": "execute_result"
    }
   ],
   "source": [
    "passPercentage(filename)"
   ]
  },
  {
   "cell_type": "code",
   "execution_count": 50,
   "metadata": {},
   "outputs": [],
   "source": [
    "#fail percentage\n",
    "def failPercentage(filename):\n",
    "    m=markslist(filename)\n",
    "    nooffailed=[]\n",
    "    for i in m:\n",
    "        if i<40:\n",
    "            nooffailed.append(i)\n",
    "    failpercent=((len( nooffailed)/len(m))*100)\n",
    "    return failpercent"
   ]
  },
  {
   "cell_type": "code",
   "execution_count": 52,
   "metadata": {},
   "outputs": [
    {
     "data": {
      "text/plain": [
       "44.0"
      ]
     },
     "execution_count": 52,
     "metadata": {},
     "output_type": "execute_result"
    }
   ],
   "source": [
    "failPercentage(filename)"
   ]
  },
  {
   "cell_type": "code",
   "execution_count": 56,
   "metadata": {},
   "outputs": [
    {
     "name": "stdout",
     "output_type": "stream",
     "text": [
      "[65, 58, 47, 45, 63, 70, 67, 50, 63, 49, 68, 64, 52, 71, 74, 61, 53, 65, 75, 60, 71, 62, 48, 58, 61, 70, 42, 41, 43, 67, 63, 65, 65, 60, 65, 67, 43, 64, 72, 41, 73, 56, 74, 50, 62, 54, 42, 71, 55, 52, 71, 47, 66, 72]\n",
      "54\n"
     ]
    }
   ],
   "source": [
    "#frequency of passed fellows\n",
    "def frequencyOfPassed(filename):\n",
    "    m=markslist(filename)\n",
    "    pl=[]\n",
    "    for i in m:\n",
    "        if i>40:\n",
    "            pl.append(i)\n",
    "    return pl\n",
    "\n",
    "\n",
    "\n",
    "s=frequencyOfPassed(filename) \n",
    "print(s)\n",
    "print(len(s))\n"
   ]
  },
  {
   "cell_type": "code",
   "execution_count": 64,
   "metadata": {},
   "outputs": [
    {
     "name": "stdout",
     "output_type": "stream",
     "text": [
      "[27, 7, 29, 19, 11, 35, 2, 23, 4, 9, 4, 1, 35, 32, 37, 24, 9, 31, 26, 2, 35, 26, 24, 16, 23, 30, 24, 28, 26, 19, 37, 20, 21, 39, 16, 12, 11, 26, 24, 5, 13, 29, 5, 30] 44\n"
     ]
    }
   ],
   "source": [
    "#frequency of failed fellows\n",
    "def frequencyOfFailed(filename):\n",
    "    m=markslist(filename)\n",
    "    fL=[]\n",
    "    for i in m:\n",
    "        if i<40:\n",
    "            fL.append(i)\n",
    "    return fL\n",
    "\n",
    "p=frequencyOfFailed(filename)\n",
    "print(p,len(p))"
   ]
  },
  {
   "cell_type": "code",
   "execution_count": 68,
   "metadata": {},
   "outputs": [
    {
     "data": {
      "text/plain": [
       "True"
      ]
     },
     "execution_count": 68,
     "metadata": {},
     "output_type": "execute_result"
    }
   ],
   "source": [
    "#Anagrams:\n",
    "#function to check if two strings are anagrams\n",
    "#aabbcc ccbbaaa   -->False\n",
    "#abc cab --->True\n",
    "def checkAnagrams(s1,s2):\n",
    "    if len(s1) != len(s2):\n",
    "        return False\n",
    "    if sorted(s1)==sorted(s2):\n",
    "        return True\n",
    "    return False\n",
    "\n",
    "checkAnagrams('abc','abc')"
   ]
  },
  {
   "cell_type": "code",
   "execution_count": 70,
   "metadata": {},
   "outputs": [
    {
     "data": {
      "text/plain": [
       "4"
      ]
     },
     "execution_count": 70,
     "metadata": {},
     "output_type": "execute_result"
    }
   ],
   "source": [
    "def charDeletionsAnagrams(s1,s2):\n",
    "    uncommon=[] #collect all uncommon characters in s1 and s2 which give us no deltions as a count\n",
    "    for i in s1:\n",
    "        if i not in s2:\n",
    "            uncommon.append(i)\n",
    "    for i in s2:\n",
    "        if i not in s1:\n",
    "            uncommon.append(i)\n",
    "    count=len(uncommon)\n",
    "    freqs1={} #frequency of s1 represents frequency of common characters in s1\n",
    "    freqs2={} #frquency of characters of s2\n",
    "    uniqs1=[] #unique characters in s1\n",
    "    uniqs2=[] #unique characters in s2\n",
    "    for i in s1:\n",
    "        if i not in uncommon and i not in uniqs1:\n",
    "            freqs1[i]=s1.count(i)\n",
    "            uniqs1.append(i)\n",
    "    for i in s2:\n",
    "        if i not in uncommon and i not in uniqs2:\n",
    "            freqs2[i]=s2.count(i)\n",
    "            uniqs2.append(i)\n",
    "    for key in freqs1.keys():\n",
    "        count+=abs(freqs1[key]-freqs2[key])\n",
    "    return count\n",
    "\n",
    "charDeletionsAnagrams(\"cde\",\"abc\")\n",
    "\n",
    "            "
   ]
  },
  {
   "cell_type": "code",
   "execution_count": null,
   "metadata": {},
   "outputs": [],
   "source": [
    "#full solution for anangarm\n",
    "def charDeletionsAnagrams(s1,s2):\n",
    "    uncommon=[]\n",
    "    for i in s1:\n",
    "        if i not in s2:\n",
    "            uncommon.append(i)\n",
    "    for i in s2:\n",
    "        if i not in s1:\n",
    "            uncommon.append(i)\n",
    "    count=len(uncommon)\n",
    "    freqs1={}\n",
    "    freqs2={}\n",
    "    uniqs1=[]\n",
    "    uniqs2=[]\n",
    "    for i in s1:\n",
    "        if i not in uncommon and i not in uniqs1:\n",
    "            freqs1[i]=s1.count(i)\n",
    "            uniqs1.append(i)\n",
    "    for i in s2:\n",
    "        if i not in uncommon and i not in uniqs2:\n",
    "            freqs2[i]=s2.count(i)\n",
    "            uniqs2.append(i)\n",
    "    for key in freqs1.keys():\n",
    "        count+=abs(freqs1[key]-freqs2[key])\n",
    "    return count\n",
    "\n",
    "\n",
    "\n",
    "            \n",
    "n=int(input())\n",
    "for i in range(0,n):\n",
    "    s1=input()\n",
    "    s2=input()\n",
    "    print(charDeletionsAnagrams(s1,s2))"
   ]
  },
  {
   "cell_type": "code",
   "execution_count": 72,
   "metadata": {},
   "outputs": [
    {
     "data": {
      "text/plain": [
       "62228"
      ]
     },
     "execution_count": 72,
     "metadata": {},
     "output_type": "execute_result"
    }
   ],
   "source": [
    "#That average sum problem sum very easy problemmmmm\n",
    "def averageRange(lb,ub):\n",
    "    sum=0\n",
    "    for i in range(lb,ub+1):\n",
    "        sum+=i\n",
    "    count=ub-lb+1\n",
    "    avg=sum//count\n",
    "    return avg\n",
    "\n",
    "averageRange(1000,123456)\n",
    "    "
   ]
  },
  {
   "cell_type": "code",
   "execution_count": 4,
   "metadata": {},
   "outputs": [
    {
     "data": {
      "text/plain": [
       "-1"
      ]
     },
     "execution_count": 4,
     "metadata": {},
     "output_type": "execute_result"
    }
   ],
   "source": [
    "#that easy problemmmmmmmmmmmm\n",
    "def kLargestFrequency(s,k):\n",
    "    #Construct the frequency dictinory for all unique characters\n",
    "    unique=[]\n",
    "    freq={}\n",
    "    for i in s:\n",
    "        if i not in freq.keys():\n",
    "            freq[i]=s.count(i)\n",
    "    #extract unique  frequicies in decencding order\n",
    "    values=sorted(freq.values())\n",
    "    uniqueValues=list(set(values))\n",
    "    uniqueValues=sorted(uniqueValues,reverse=True)\n",
    "    #identify kth largest freuency\n",
    "    if(k<=len(uniqueValues)):\n",
    "        kvalue=uniqueValues[k-1]\n",
    "    else:\n",
    "        return -1\n",
    "    #Get all elemnets with kth largest frequencies\n",
    "    li=[]\n",
    "    for item in freq.items():\n",
    "        if item[1]==kvalue:\n",
    "            li.append(item[0])\n",
    "    #minimun  if kth largest frquency\n",
    "    return min(li)\n",
    "\n",
    "kLargestFrequency('aabcccd',4)\n",
    "    "
   ]
  },
  {
   "cell_type": "code",
   "execution_count": 2,
   "metadata": {},
   "outputs": [],
   "source": [
    "file='DataFiles/data.txt'"
   ]
  },
  {
   "cell_type": "code",
   "execution_count": 5,
   "metadata": {},
   "outputs": [
    {
     "name": "stdout",
     "output_type": "stream",
     "text": [
      "2\n",
      "f\n",
      "3\n",
      "-1\n",
      "g\n",
      "2\n",
      "-1\n"
     ]
    }
   ],
   "source": [
    "with open (file,'r') as f:\n",
    "    t=int(input())\n",
    "    for i in range (t):\n",
    "        s=input()\n",
    "        k=int(input())\n",
    "        print(kLargestFrequency(s,k))"
   ]
  },
  {
   "cell_type": "code",
   "execution_count": 6,
   "metadata": {},
   "outputs": [],
   "source": [
    "#second Largest\n",
    "def secondLargest(li):\n",
    "    #convert the list into a unique list\n",
    "    #O(n)\n",
    "    unique=[]\n",
    "    for n in li:\n",
    "        if n not in unique:\n",
    "            unique.append(n)\n",
    "    unique=sorted(unique,reverse=True)\n",
    "    return unique[1]\n",
    "    \n",
    "    "
   ]
  },
  {
   "cell_type": "code",
   "execution_count": 7,
   "metadata": {},
   "outputs": [
    {
     "data": {
      "text/plain": [
       "8"
      ]
     },
     "execution_count": 7,
     "metadata": {},
     "output_type": "execute_result"
    }
   ],
   "source": [
    "secondLargest([1,2,3,4,5,6,7,8,9,0])"
   ]
  },
  {
   "cell_type": "code",
   "execution_count": 13,
   "metadata": {},
   "outputs": [
    {
     "data": {
      "text/plain": [
       "1"
      ]
     },
     "execution_count": 13,
     "metadata": {},
     "output_type": "execute_result"
    }
   ],
   "source": [
    "#fifth least from a given lsit\n",
    "def fifthleast(li):\n",
    "    unique=[]\n",
    "    for i in li:\n",
    "        if i not in unique:\n",
    "            unique.append(i)\n",
    "    unique=sorted(unique,reverse=True)\n",
    "    return unique[len(unique)-5]\n",
    "\n",
    "fifthleast([1,2,3,4,5,6,7,8,9])"
   ]
  },
  {
   "cell_type": "code",
   "execution_count": 25,
   "metadata": {},
   "outputs": [
    {
     "data": {
      "text/plain": [
       "-1"
      ]
     },
     "execution_count": 25,
     "metadata": {},
     "output_type": "execute_result"
    }
   ],
   "source": [
    "def kthleast(li,k):\n",
    "    unique=[]\n",
    "    for i in li:\n",
    "        if i not in unique:\n",
    "            unique.append(i)\n",
    "    #sort the list in accending order\n",
    "    unique=sorted(unique)\n",
    "    #check if the length of unique list is greater than k\n",
    "    if(len(unique)>=k):\n",
    "        return unique[k-1]\n",
    "    else:\n",
    "        return -1\n",
    "\n",
    "\n",
    "kthleast([112,2324,1242,353,34457,35346,4,2342365,345],10)"
   ]
  },
  {
   "cell_type": "code",
   "execution_count": 43,
   "metadata": {},
   "outputs": [
    {
     "name": "stdout",
     "output_type": "stream",
     "text": [
      "[2342365, 35346, 34457, 2324, 1242, 353, 345, 112, 4]\n"
     ]
    },
    {
     "data": {
      "text/plain": [
       "2324"
      ]
     },
     "execution_count": 43,
     "metadata": {},
     "output_type": "execute_result"
    }
   ],
   "source": [
    "def kthgreatest(li,k):\n",
    "    unique=[]\n",
    "    for i in li:\n",
    "        if i not in unique:\n",
    "            unique.append(i)\n",
    "    unique=sorted(unique,reverse=True)\n",
    "    #sort the list in decending order\n",
    "    print(unique)\n",
    "    if(len(unique)>=k):\n",
    "        return unique[k-1]\n",
    "    else:\n",
    "        return -1\n",
    "\n",
    "\n",
    "kthgreatest([112,2324,1242,353,34457,35346,4,2342365,345],4)"
   ]
  },
  {
   "cell_type": "code",
   "execution_count": 3,
   "metadata": {},
   "outputs": [
    {
     "name": "stdout",
     "output_type": "stream",
     "text": [
      "[1, 2, 11, 3, 4, 23, 5, 33, 7, 6]\n",
      "[2, 6, 2, 1, 6, 6, 3, 4, 1, 6, 3, 6, 6, 3, 1, 4, 4, 1, 4, 3, 3, 1, 3]\n"
     ]
    }
   ],
   "source": [
    "#function to identifiy event with highest frquencyElement in a list\n",
    "#how many elements have the highest frquency \n",
    "#highest frequency of follwing elements([1,2,3,4,5,7,3,45,2,1])\n",
    "def highestFrequencyElement(li):\n",
    "    unique=[]\n",
    "    for i in li:\n",
    "        if i  not in unique:\n",
    "            unique.append(i)\n",
    "    print(unique)\n",
    "    frequency=[]\n",
    "    for i in li:\n",
    "        if i in unique:\n",
    "            frequency.append(li.count(i))\n",
    "    print(frequency)\n",
    "\n",
    "\n",
    "\n",
    "li=[1,2,1,11,2,2,3,4,23,2,3,2,2,3,5,4,4,33,4,7,7,6,7]\n",
    "highestFrequencyElement(li)\n"
   ]
  },
  {
   "cell_type": "code",
   "execution_count": 17,
   "metadata": {},
   "outputs": [
    {
     "name": "stdout",
     "output_type": "stream",
     "text": [
      "{1: 4, 2: 1, 22: 1, 3: 3, 4: 3, 5: 2, 6: 1, 32: 1, 67: 1, 7: 1}\n",
      "[4, 3, 3, 2, 1, 1, 1, 1, 1, 1]\n"
     ]
    }
   ],
   "source": [
    "def highestFrequencyElement1(li):\n",
    "    unique={}\n",
    "    for i in li:\n",
    "        if i not in unique:\n",
    "            unique[i]=li.count(i)\n",
    "    print(unique)\n",
    "    s=[]\n",
    "    s=sorted(unique.values(),reverse=True)\n",
    "    print(s)\n",
    "    \n",
    "    \n",
    "dam=[1,2,22,1,3,4,5,1,3,4,6,4,3,32,1,5,67,7]\n",
    "\n",
    "highestFrequencyElement1(dam)"
   ]
  },
  {
   "cell_type": "code",
   "execution_count": 21,
   "metadata": {},
   "outputs": [
    {
     "name": "stdout",
     "output_type": "stream",
     "text": [
      "{1: 4, 2: 1, 22: 1, 3: 3, 4: 3, 5: 2, 6: 1, 32: 1, 67: 1, 7: 1}\n"
     ]
    },
    {
     "data": {
      "text/plain": [
       "67"
      ]
     },
     "execution_count": 21,
     "metadata": {},
     "output_type": "execute_result"
    }
   ],
   "source": [
    "def HighestFrequencyElement(li):\n",
    "    unique={}\n",
    "    for n in li:\n",
    "        if n in unique:\n",
    "            unique[n]+=1\n",
    "        else:\n",
    "            unique[n]=1\n",
    "#Getting all frquencies into a list\n",
    "    print(unique)\n",
    "    freq=unique.values()\n",
    "    maxfreq=max(freq)\n",
    "    maxfreqkeys=[]\n",
    "#identify smallest number with maximum frequency\n",
    "#Extarct all keys with maximum frequency in a list\n",
    "    for item in unique.items():\n",
    "        #item-->(key,value)\n",
    "        #item[1]\n",
    "        if item[1]==maxfreq:\n",
    "            maxfreqkeys.append(item[0])\n",
    "#select minimum from keys with maximum frquency\n",
    "    return min(maxfreqkeys) #minfreqE[k-1]\n",
    "    \n",
    "HighestFrequencyElement(dam)"
   ]
  },
  {
   "cell_type": "code",
   "execution_count": 27,
   "metadata": {},
   "outputs": [
    {
     "name": "stdout",
     "output_type": "stream",
     "text": [
      "{1: 2, 2: 2, 3: 1, 4: 2, 9: 1}\n",
      "[3]\n",
      "[3, 9]\n"
     ]
    },
    {
     "data": {
      "text/plain": [
       "3"
      ]
     },
     "execution_count": 27,
     "metadata": {},
     "output_type": "execute_result"
    }
   ],
   "source": [
    "#Function to identify second highest frequency element.\n",
    "#if there are many such elements ,return the second highest \n",
    "#[1,2,3,2,1,4,4,9]\n",
    "def SecondFrequencyElement(li):\n",
    "    unique={}\n",
    "    for n in li:\n",
    "        if n in unique:\n",
    "            unique[n]+=1\n",
    "        else:\n",
    "            unique[n]=1\n",
    "#Getting all frquencies into a list\n",
    "    print(unique)\n",
    "    freq=unique.values()\n",
    "    uniqfreq=[]\n",
    "    for i in freq:\n",
    "        if i not in uniqfreq:\n",
    "            uniqfreq.append(i)\n",
    "    uniqfreq=sorted(uniqfreq,reverse=True)\n",
    "    maxfreq=uniqfreq[1]\n",
    "    maxfreqkeys=[]\n",
    "#identify smallest number with maximum frequency\n",
    "#Extarct all keys with maximum frequency in a list\n",
    "    for item in unique.items():\n",
    "        #item-->(key,value)\n",
    "        #item[1]\n",
    "        if item[1]==maxfreq:\n",
    "            maxfreqkeys.append(item[0])\n",
    "            print(maxfreqkeys)\n",
    "#select minimum from keys with maximum frquency\n",
    "    return min(maxfreqkeys) #minfreqE[k-1]'''\n",
    "da=[1,2,3,2,1,4,4,9]\n",
    "SecondFrequencyElement(da)"
   ]
  },
  {
   "cell_type": "code",
   "execution_count": 44,
   "metadata": {},
   "outputs": [
    {
     "name": "stdout",
     "output_type": "stream",
     "text": [
      "{9: 2, 8: 1, 7: 5, 6: 3, 5: 1, 2: 1, 3: 1, 4: 1}\n",
      "[5, 3, 2, 1]\n",
      "[8, 5, 2, 3, 4]\n"
     ]
    },
    {
     "data": {
      "text/plain": [
       "2"
      ]
     },
     "execution_count": 44,
     "metadata": {},
     "output_type": "execute_result"
    }
   ],
   "source": [
    "#function to identify kth\n",
    "\n",
    "def kthhighFrequencyElement(li,k):\n",
    "    unique={}\n",
    "    for n in li:\n",
    "        if n in unique:\n",
    "            unique[n]+=1\n",
    "        else:\n",
    "            unique[n]=1\n",
    "#Getting all frquencies into a list\n",
    "    print(unique)\n",
    "    freq=unique.values()\n",
    "    uniqfreq=[]\n",
    "    for i in freq:\n",
    "        if i not in uniqfreq:\n",
    "            uniqfreq.append(i)\n",
    "    uniqfreq=sorted(uniqfreq,reverse=True)\n",
    "    print(uniqfreq)\n",
    "    maxfreq=uniqfreq[k-1]\n",
    "    maxfreqkeys=[]\n",
    "#identify smallest number with maximum frequency\n",
    "#Extarct all keys with maximum frequency in a list\n",
    "    for item in unique.items():\n",
    "        #item-->(key,value)\n",
    "        #item[1]\n",
    "        if item[1]==maxfreq:\n",
    "            maxfreqkeys.append(item[0])\n",
    "    print(maxfreqkeys)\n",
    "#select minimum from keys with maximum frquency\n",
    "    return min(maxfreqkeys) #minfreqE[k-1]'''\n",
    "da=[9,8,7,6,5,2,3,4,9,7,7,7,6,7,6]\n",
    "kthhighFrequencyElement(da,4)"
   ]
  },
  {
   "cell_type": "code",
   "execution_count": null,
   "metadata": {},
   "outputs": [],
   "source": []
  },
  {
   "cell_type": "code",
   "execution_count": 45,
   "metadata": {},
   "outputs": [
    {
     "data": {
      "text/plain": [
       "['s', 'h', 'i', 'v', 'a']"
      ]
     },
     "execution_count": 45,
     "metadata": {},
     "output_type": "execute_result"
    }
   ],
   "source": [
    "s='shiva'\n",
    "li=[]\n",
    "for i in s:\n",
    "    li.append(i)\n",
    "li    "
   ]
  },
  {
   "cell_type": "code",
   "execution_count": null,
   "metadata": {},
   "outputs": [],
   "source": []
  }
 ],
 "metadata": {
  "kernelspec": {
   "display_name": "Python 3",
   "language": "python",
   "name": "python3"
  }
 },
 "nbformat": 4,
 "nbformat_minor": 2
}
